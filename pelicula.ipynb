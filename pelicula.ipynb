{
  "nbformat": 4,
  "nbformat_minor": 0,
  "metadata": {
    "colab": {
      "name": "cyp2022.ipynb",
      "provenance": [],
      "authorship_tag": "ABX9TyOzPhqQ6Y5Q9LcbrG8sTTgM",
      "include_colab_link": true
    },
    "kernelspec": {
      "name": "python3",
      "display_name": "Python 3"
    },
    "language_info": {
      "name": "python"
    }
  },
  "cells": [
    {
      "cell_type": "markdown",
      "metadata": {
        "id": "view-in-github",
        "colab_type": "text"
      },
      "source": [
        "<a href=\"https://colab.research.google.com/github/AlexisAO861/ComputadorasyProgramacion-G1157/blob/main/pelicula.ipynb\" target=\"_parent\"><img src=\"https://colab.research.google.com/assets/colab-badge.svg\" alt=\"Open In Colab\"/></a>"
      ]
    },
    {
      "cell_type": "code",
      "metadata": {
        "id": "yeq_SF7a0oIj"
      },
      "source": [
        "pelicula = {\"titulo\":\"avengers infinity war\",\n",
        "            \"heroes\" :{\n",
        "                \"alias\":[\"ironma\",\"capitan america\"]\n",
        "                \"nombres\":[\"tony stark\",\"steve rogers\", \"hulk\"]\n",
        "                \"habilidades\":[\"inteligencia\", \"suero del supersoldado\",\"super fuerza\", ]\n",
        "            },\n",
        "            \"villanos\":{\n",
        "               \"alias\":[\"titan loco\"]\n",
        "                \"nombres\":[\"tanos\"]\n",
        "                \"habilidades\":[\"fuerza y estratega militar\"]\n",
        "            },\n",
        "            \"sitios de conflicto\"{\n",
        "                \"planeta\":[\"tierra\"]\n",
        "                \"lugar\":[\"wakanda\"]\n",
        "            },\n",
        "            \"gemas de infinito\"{\n",
        "                \"tipo\":[\"tiempo\",\"alma\",\"realidad\",\"mente\",\"espacio\",]\n",
        "                \"habilidad\":[]\n",
        "            }\n",
        "}"
      ],
      "execution_count": null,
      "outputs": []
    }
  ]
}