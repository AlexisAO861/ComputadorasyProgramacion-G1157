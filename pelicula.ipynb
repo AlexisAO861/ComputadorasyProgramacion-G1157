{
  "nbformat": 4,
  "nbformat_minor": 0,
  "metadata": {
    "colab": {
      "name": "cyp2022.ipynb",
      "provenance": [],
      "authorship_tag": "ABX9TyNO36mTBBDmX4VE1DDQNkY7",
      "include_colab_link": true
    },
    "kernelspec": {
      "name": "python3",
      "display_name": "Python 3"
    },
    "language_info": {
      "name": "python"
    }
  },
  "cells": [
    {
      "cell_type": "markdown",
      "metadata": {
        "id": "view-in-github",
        "colab_type": "text"
      },
      "source": [
        "<a href=\"https://colab.research.google.com/github/AlexisAO861/ComputadorasyProgramacion-G1157/blob/main/pelicula.ipynb\" target=\"_parent\"><img src=\"https://colab.research.google.com/assets/colab-badge.svg\" alt=\"Open In Colab\"/></a>"
      ]
    },
    {
      "cell_type": "code",
      "metadata": {
        "id": "yeq_SF7a0oIj"
      },
      "source": [
        "pelicula = {\"titulo\":\"avengers infinity war\",\n",
        "            \"heroes\" :{\n",
        "                \"alias\":[\"ironma\",\"capitan america\"]\n",
        "                \"nombres\":[\"tony stark\",\"steve rogers\"]\n",
        "                \"habilidades\":[]\n",
        "            },\n",
        "            \"villanos\":{\n",
        "               \"alias\":[]\n",
        "                \"nombres\":[]\n",
        "                \"habilidades\":[]\n",
        "            },\n",
        "            \"sitios de conflicto\"{\n",
        "                \"planeta\":[]\n",
        "                \"lugar\":[]\n",
        "            },\n",
        "            \"gemas de infinito\"{\n",
        "                \"tipo\":[]\n",
        "                \"habilidad\":[]\n",
        "            }\n",
        "}"
      ],
      "execution_count": null,
      "outputs": []
    }
  ]
}