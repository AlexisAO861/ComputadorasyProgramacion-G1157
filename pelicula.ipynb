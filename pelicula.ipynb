{
  "nbformat": 4,
  "nbformat_minor": 0,
  "metadata": {
    "colab": {
      "name": "cyp2022.ipynb",
      "provenance": [],
      "authorship_tag": "ABX9TyMa7VvE5NsWkyxwgVJ0T0mn",
      "include_colab_link": true
    },
    "kernelspec": {
      "name": "python3",
      "display_name": "Python 3"
    },
    "language_info": {
      "name": "python"
    }
  },
  "cells": [
    {
      "cell_type": "markdown",
      "metadata": {
        "id": "view-in-github",
        "colab_type": "text"
      },
      "source": [
        "<a href=\"https://colab.research.google.com/github/AlexisAO861/ComputadorasyProgramacion-G1157/blob/main/pelicula.ipynb\" target=\"_parent\"><img src=\"https://colab.research.google.com/assets/colab-badge.svg\" alt=\"Open In Colab\"/></a>"
      ]
    },
    {
      "cell_type": "code",
      "metadata": {
        "id": "yeq_SF7a0oIj"
      },
      "source": [
        "pelicula = {\"titulo\":\"[avemgers infiniti war\",\n",
        "            \"heroes\" :{\n",
        "                \"alias\":[]\n",
        "                \"nombres\":[]\n",
        "                \"habilidades\":[]\n",
        "\n",
        "\n",
        "            },\n",
        "            \"villanos\":{\n",
        "               \"alias\":[]\n",
        "                \"nombres\":[]\n",
        "                \"habilidades\":[]\n",
        " \n",
        "            }\n",
        "\"}"
      ],
      "execution_count": null,
      "outputs": []
    }
  ]
}