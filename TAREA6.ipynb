{
  "nbformat": 4,
  "nbformat_minor": 0,
  "metadata": {
    "colab": {
      "name": "TAREA6.ipynb",
      "provenance": [],
      "authorship_tag": "ABX9TyOuWLOswfq0Sik2HGzqWZIL",
      "include_colab_link": true
    },
    "kernelspec": {
      "name": "python3",
      "display_name": "Python 3"
    },
    "language_info": {
      "name": "python"
    }
  },
  "cells": [
    {
      "cell_type": "markdown",
      "metadata": {
        "id": "view-in-github",
        "colab_type": "text"
      },
      "source": [
        "<a href=\"https://colab.research.google.com/github/AlexisAO861/ComputadorasyProgramacion-G1157/blob/main/TAREA6.ipynb\" target=\"_parent\"><img src=\"https://colab.research.google.com/assets/colab-badge.svg\" alt=\"Open In Colab\"/></a>"
      ]
    },
    {
      "cell_type": "code",
      "metadata": {
        "id": "4cRKmQgz6eKe",
        "colab": {
          "base_uri": "https://localhost:8080/"
        },
        "outputId": "2c56ad42-7bc0-45eb-ce20-56d54222faf3"
      },
      "source": [
        "# 2.1\n",
        "N= int(input(\"Cantidad de sonidos producidos por el grillo:\"))\n",
        "T = 0\n",
        "if N > 0:\n",
        "    T = N/4 + 40\n",
        "    print(\"temperatura:\",T)\n",
        "else:\n",
        "    print(\"Fin del programa\")"
      ],
      "execution_count": null,
      "outputs": [
        {
          "output_type": "stream",
          "name": "stdout",
          "text": [
            "Cantidad de sonidos producidos por el grillo:50\n",
            "temperatura: 52.5\n"
          ]
        }
      ]
    },
    {
      "cell_type": "code",
      "metadata": {
        "colab": {
          "base_uri": "https://localhost:8080/"
        },
        "id": "P6r4RXC49DKc",
        "outputId": "66362db2-f233-4aab-c41b-fc00aa22b4e7"
      },
      "source": [
        "#2.2\n",
        "P= int(input(\"ingresa tu primer valor entero:\"))\n",
        "Q= int(input(\"ingresa tu segundo valor entero:\"))\n",
        "EXP = P**3 + Q**4 - 2*P**2\n",
        "if EXP < 680:\n",
        "    print(f\"los valores son {P} y {Q}\")\n",
        "else:\n",
        "    print(\"Fin del programa\")"
      ],
      "execution_count": null,
      "outputs": [
        {
          "output_type": "stream",
          "name": "stdout",
          "text": [
            "ingresa tu primer valor intero:2\n",
            "ingresa tu segundo valor intero:4\n",
            "los valores son 2 y 4\n"
          ]
        }
      ]
    },
    {
      "cell_type": "code",
      "metadata": {
        "colab": {
          "base_uri": "https://localhost:8080/"
        },
        "id": "A_Ag1NVgGimN",
        "outputId": "e040bd0b-43b1-48e8-a6e7-611e83bff7fc"
      },
      "source": [
        "#2.3\n",
        "A = float(input(\"Ingresa el dato que sustituira A en la formula:\"))\n",
        "B = float(input(\"Ingresa el dato que sustituira B en la formula:\"))\n",
        "C = float(input(\"Ingresa el dato que sustituira C en la formula:\"))\n",
        "X1=0\n",
        "X2=0\n",
        "DIS = B**2 - 4 * A * C\n",
        "if  DIS >= 0:\n",
        "    X1 = (-B+DIS**0.5)/(2*A)\n",
        "    X2 = (-B-DIS**0.5)/(2*A)\n",
        "    print(\"Raices reales\",X1,X2)\n",
        "else:\n",
        "    print(\"Fin del programa\")"
      ],
      "execution_count": null,
      "outputs": [
        {
          "output_type": "stream",
          "name": "stdout",
          "text": [
            "Ingresa el dato que sustituira A en la formula:3\n",
            "Ingresa el dato que sustituira B en la formula:9\n",
            "Ingresa el dato que sustituira C en la formula:1.5\n",
            "Raices reales -0.17712434446770464 -2.8228756555322954\n"
          ]
        }
      ]
    },
    {
      "cell_type": "code",
      "metadata": {
        "colab": {
          "base_uri": "https://localhost:8080/"
        },
        "id": "eS1wY47x-SXM",
        "outputId": "38aabd5b-0057-4d01-9e13-5be478d7cf90"
      },
      "source": [
        "#2.4\n",
        "MAT = int(input(\"Ingresa tu matricula:\"))\n",
        "cal1 = float(input(\"ingresa tu primera calificación:\"))\n",
        "cal2 = float(input(\"ingresa tu segunda calificación:\"))\n",
        "cal3 = float(input(\"ingresa tu tercera calificación:\"))\n",
        "cal4 = float(input(\"ingresa tu cuarta calificación:\"))\n",
        "cal5 = float(input(\"ingresa tu quinta calificación:\"))\n",
        "PRO = (cal1+cal2+cal3+cal4+cal5)/5\n",
        "if PRO >= 6:\n",
        "    print(MAT,PRO,\"Aprobado\")\n",
        "else:\n",
        "    print(MAT,PRO,\"no aprobado\")\n",
        "\n"
      ],
      "execution_count": null,
      "outputs": [
        {
          "output_type": "stream",
          "name": "stdout",
          "text": [
            "Ingresa tu matricula:16650\n",
            "ingresa tu primera calificación:5\n",
            "ingresa tu segunda calificación:4.80\n",
            "ingresa tu tercera calificación:7\n",
            "ingresa tu cuarta calificación:6.30\n",
            "ingresa tu quinta calificación:5.90\n",
            "16650 5.8 no aprobado\n"
          ]
        }
      ]
    },
    {
      "cell_type": "code",
      "metadata": {
        "colab": {
          "base_uri": "https://localhost:8080/"
        },
        "id": "1CRXa4yCCFv0",
        "outputId": "89adab4a-a67d-41df-ff67-19d961ba5a53"
      },
      "source": [
        "#2.5\n",
        "NUM = int(input(\"ingresa un numero entero porfavor:\"))\n",
        "if NUM > 0:\n",
        "    print(\"positivo\")\n",
        "else:\n",
        "    if NUM == 0:\n",
        "        print(\"nulo\")\n",
        "        \n",
        "    else:\n",
        "        print(\"negativo\")\n",
        "print(\"fin del programa\")"
      ],
      "execution_count": null,
      "outputs": [
        {
          "output_type": "stream",
          "name": "stdout",
          "text": [
            "ingresa un numero entero porfavor:0\n",
            "nulo\n",
            "fin del programa\n"
          ]
        }
      ]
    },
    {
      "cell_type": "code",
      "metadata": {
        "colab": {
          "base_uri": "https://localhost:8080/"
        },
        "id": "SPZJer3iE5td",
        "outputId": "cfadfcb6-33a0-48f5-cd62-2f338c0d9ab2"
      },
      "source": [
        "#2.6\n",
        "A = int(input(\"ingresa un numero entero porfavor:\"))\n",
        "if  A == 0:\n",
        "    print(\"Nulo\")\n",
        "else:\n",
        "    if (-1)**A>0:\n",
        "        print(\"Par\")\n",
        "    else:\n",
        "        print(\"Impar\")\n",
        "print(\"fin del programa\")\n"
      ],
      "execution_count": null,
      "outputs": [
        {
          "output_type": "stream",
          "name": "stdout",
          "text": [
            "ingresa un numero entero porfavor:89\n",
            "Impar\n",
            "fin del programa\n"
          ]
        }
      ]
    },
    {
      "cell_type": "code",
      "metadata": {
        "colab": {
          "base_uri": "https://localhost:8080/"
        },
        "id": "DypdJNjlI_dk",
        "outputId": "1916fad1-55d9-4a2a-b556-2c3d96c8525a"
      },
      "source": [
        "#2.7\n",
        "A = int(input(\"ingresa un numero entero porfavor:\"))\n",
        "B = int(input(\"ingresa un numero entero diferente por favor:\"))\n",
        "C = int(input(\"ingresa un numero entero diferente por favor:\"))\n",
        "if A != B and A != C:\n",
        "    if A < B:\n",
        "        if B < C:\n",
        "            print(\"Los numeros estan en orden creciente\")\n",
        "        else:\n",
        "            print(\"Los numeros no estan en orden creciente\")\n",
        "    else:\n",
        "        print(\"Los numeros no estan en orden creciente\")\n",
        "else:\n",
        "    print(\"ingresa valores diferentes profavor\")\n",
        "\n",
        "\n",
        "\n"
      ],
      "execution_count": null,
      "outputs": [
        {
          "output_type": "stream",
          "name": "stdout",
          "text": [
            "ingresa un numero entero porfavor:45\n",
            "ingresa un numero entero diferente por favor:89\n",
            "ingresa un numero entero diferente por favor:34567\n",
            "Los numeros estan en orden creciente\n"
          ]
        }
      ]
    },
    {
      "cell_type": "code",
      "metadata": {
        "id": "3tXejwn0MOnl",
        "colab": {
          "base_uri": "https://localhost:8080/"
        },
        "outputId": "a969f203-727a-4b16-b828-460881f0268e"
      },
      "source": [
        "#2.8 \n",
        "compra = float(input(\"ingresa el precio de tu compra\"))\n",
        "pagar = 0\n",
        "if  compra < 500:\n",
        "    pagar = compra\n",
        "    print(\"el precio finsl es de $ \",pagar)\n",
        "else:\n",
        "    if compra <= 1000:\n",
        "        pagar = compra - (compra*0.05)\n",
        "        print(\"el precio finsl es de $ \",pagar)\n",
        "    else:\n",
        "        if compra <= 7000:\n",
        "            pagar = compra - (compra*0.11)\n",
        "            print(\"el precio finsl es de $ \",pagar)\n",
        "        else:\n",
        "            if compra <= 15000:\n",
        "                pagar = compra - (compra*0.18)\n",
        "                print(\"el precio finsl es de $ \",pagar)\n",
        "            else:\n",
        "                pagar = compra - (compra*0.25)\n",
        "                print(\"el precio finsl es de $ \",pagar)\n",
        "    "
      ],
      "execution_count": 5,
      "outputs": [
        {
          "output_type": "stream",
          "name": "stdout",
          "text": [
            "ingresa el precio de tu compra25314.18\n",
            "el precio finsl es de $  18985.635000000002\n"
          ]
        }
      ]
    },
    {
      "cell_type": "code",
      "metadata": {
        "colab": {
          "base_uri": "https://localhost:8080/"
        },
        "id": "hAX0HkDaCkN8",
        "outputId": "ac8280ad-4d4b-4485-9602-179ef7b3b537"
      },
      "source": [
        "#2.9\n",
        "pruebas = float(input(\"ingresa el precio del producto:\"))\n",
        "imp=0\n",
        "if pruebas > 500:\n",
        "    imp = 20*0.30+(pruebas-40)*0.50\n",
        "else:\n",
        "    if pruebas > 40:\n",
        "        imp = 20*0.30+(pruebas-40)*0.40\n",
        "    else:\n",
        "        if pruebas > 20:\n",
        "            imp = 20*0.30+(pruebas-40)*0.30\n",
        "        else:\n",
        "            imp = 0\n",
        "pretot = pruebas + imp\n",
        "print(f\"costo basico:${pruebas} , precio total:${pretot}\")\n",
        "    "
      ],
      "execution_count": 12,
      "outputs": [
        {
          "output_type": "stream",
          "name": "stdout",
          "text": [
            "ingresa el precio del producto:27.90\n",
            "costo basico:$27.9 , precio total:$30.27\n"
          ]
        }
      ]
    },
    {
      "cell_type": "code",
      "metadata": {
        "colab": {
          "base_uri": "https://localhost:8080/"
        },
        "id": "6gE8qnu-IyT3",
        "outputId": "8e43e16d-92ed-4013-9500-d2f141054bbf"
      },
      "source": [
        "#2.10\n",
        "A = int(input(\"ingresa tu primer numero entero:\"))\n",
        "B = int(input(\"ingresa tu segundo numero entero:\"))\n",
        "C = int(input(\"ingresa tu tercer numero entero:\"))\n",
        "if A > B:\n",
        "    if A > C:\n",
        "        print(\"A es mayor\")\n",
        "    else:\n",
        "        if A == C:\n",
        "            print(\"A y C son mayores\")\n",
        "        else:print(\"C es el mayor\")\n",
        "else:\n",
        "    if A == B:\n",
        "        if A > C:\n",
        "            print(\"A y B son los mayores\")\n",
        "        else:\n",
        "            if A == C:\n",
        "                print(\"A, B y C son iguales \")\n",
        "            else:print(\"C es el mayor\")\n",
        "    else:\n",
        "        if B > C:\n",
        "            print(\"B es el mayor\")\n",
        "        else:\n",
        "            if B == C:\n",
        "                print(\"B y C son los mayores\")\n",
        "            else:print(\"C es el mayor\")\n",
        "print(\"Fin del programa\")\n",
        "\n"
      ],
      "execution_count": 22,
      "outputs": [
        {
          "output_type": "stream",
          "name": "stdout",
          "text": [
            "ingresa tu primer numero entero:17\n",
            "ingresa tu segundo numero entero:17\n",
            "ingresa tu tercer numero entero:17\n",
            "A, B y C son iguales \n",
            "Fin del programa\n"
          ]
        }
      ]
    },
    {
      "cell_type": "code",
      "metadata": {
        "colab": {
          "base_uri": "https://localhost:8080/"
        },
        "id": "j4inEMIMUpnN",
        "outputId": "0232c0a1-37f4-4b7a-949c-ddc23a6e79bf"
      },
      "source": [
        "#2.11\n",
        "clave = int(input(\"dato la clave de la zona a la cual se llamó:\"))\n",
        "numin = int(input(\"número de m inutos que duró la llamada:\"))\n",
        "cost = 0\n",
        "if clave == 12:\n",
        "    cost = numin*2;\n",
        "elif clave == 15:\n",
        "    cost = numin*2.2;\n",
        "elif clave == 18:\n",
        "    cost = numin*4.5;\n",
        "elif clave == 19:\n",
        "    cost = numin*3.5;\n",
        "elif clave == 23:\n",
        "    cost = numin*6;\n",
        "elif clave == 25:\n",
        "    cost = numin*6;\n",
        "elif clave == 29:\n",
        "    cost = numin*5;\n",
        "print(\"Costo total de la llamada: $\",cost)"
      ],
      "execution_count": 77,
      "outputs": [
        {
          "output_type": "stream",
          "name": "stdout",
          "text": [
            "dato la clave de la zona a la cual se llamó:23\n",
            "número de m inutos que duró la llamada:5\n",
            "Costo total de la llamada: $ 30\n"
          ]
        }
      ]
    },
    {
      "cell_type": "code",
      "metadata": {
        "colab": {
          "base_uri": "https://localhost:8080/"
        },
        "id": "Jt0Q30ZbYe4K",
        "outputId": "0c3fefa2-76d2-484d-9e84-c7aa7be2e60e"
      },
      "source": [
        "#2.12\n",
        "SUE = int(input(\"Ingresa tu sueldo basico:\"))\n",
        "cate = int(input(\"Ingresa el tipo de trabajador de 1 al 8:\"))\n",
        "he = int(input(\"Horas extras trabajadas:\"))\n",
        "PHE=0\n",
        "NSUE=0\n",
        "if cate == 1:\n",
        "    PHE = 30;\n",
        "elif cate == 2:\n",
        "    PHE = 38;\n",
        "elif cate == 3:\n",
        "    PHE = 50;\n",
        "elif cate == 4:\n",
        "    PHE = 70;\n",
        "else:\n",
        "    PHE=0\n",
        "if he > 30:\n",
        "    NSUE = SUE+30*PHE\n",
        "else:\n",
        "    NSUE = SUE+he*PHE\n",
        "print(\"Su nuevo sueldo es: $\",NSUE)\n",
        "\n"
      ],
      "execution_count": 33,
      "outputs": [
        {
          "output_type": "stream",
          "name": "stdout",
          "text": [
            "Ingresa tu sueldo basico:13200\n",
            "Ingresa el tipo de trabajador de 1 al 8:8\n",
            "Horas extras trabajadas:22\n",
            "Su nuevo sueldo es: $ 13200\n"
          ]
        }
      ]
    },
    {
      "cell_type": "code",
      "metadata": {
        "colab": {
          "base_uri": "https://localhost:8080/"
        },
        "id": "Cv0_O4gFdpZ8",
        "outputId": "9f0652b2-ea84-498b-caa0-123d3f31cdb4"
      },
      "source": [
        "#2.13\n",
        "MAT = int(input(\"Ingresa tu matricula:\"))\n",
        "CARR =input(\"Ingresa tu carrera:\")\n",
        "SEM = int(input(\"Ingresa tu semestre:\"))\n",
        "PROM = float(input(\"Ingresa tu promedio:\"))\n",
        "if CARR == \"Economía\":\n",
        "    if SEM >= 6 and PROM >= 8.8:\n",
        "        print(MAT,CARR,\"aceptado\")\n",
        "elif CARR == \"Computación\":\n",
        "    if SEM > 6 and PROM > 8.5:\n",
        "        print(MAT,CARR,\"aceptado\")\n",
        "elif CARR == \"Contabilidad\":\n",
        "    if SEM > 5 and PROM > 8.5:\n",
        "        print(MAT,CARR,\"aceptado\")\n",
        "elif CARR == \"Administración\":\n",
        "    if SEM > 5 and PROM > 8.5:\n",
        "        print(MAT,CARR,\"aceptado\")\n",
        "print(\"fin del programa\")\n",
        "    \n"
      ],
      "execution_count": 81,
      "outputs": [
        {
          "output_type": "stream",
          "name": "stdout",
          "text": [
            "Ingresa tu matricula:25224\n",
            "Ingresa tu carrera:Computación\n",
            "Ingresa tu semestre:8\n",
            "Ingresa tu promedio:8.7\n",
            "25224 Computación aceptado\n",
            "fin del programa\n"
          ]
        }
      ]
    }
  ]
}