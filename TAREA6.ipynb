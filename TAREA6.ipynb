{
  "nbformat": 4,
  "nbformat_minor": 0,
  "metadata": {
    "colab": {
      "name": "TAREA6.ipynb",
      "provenance": [],
      "authorship_tag": "ABX9TyOzztnhA8VBWlwoI1bbrEAx",
      "include_colab_link": true
    },
    "kernelspec": {
      "name": "python3",
      "display_name": "Python 3"
    },
    "language_info": {
      "name": "python"
    }
  },
  "cells": [
    {
      "cell_type": "markdown",
      "metadata": {
        "id": "view-in-github",
        "colab_type": "text"
      },
      "source": [
        "<a href=\"https://colab.research.google.com/github/AlexisAO861/ComputadorasyProgramacion-G1157/blob/main/TAREA6.ipynb\" target=\"_parent\"><img src=\"https://colab.research.google.com/assets/colab-badge.svg\" alt=\"Open In Colab\"/></a>"
      ]
    },
    {
      "cell_type": "code",
      "metadata": {
        "id": "4cRKmQgz6eKe",
        "colab": {
          "base_uri": "https://localhost:8080/"
        },
        "outputId": "2c56ad42-7bc0-45eb-ce20-56d54222faf3"
      },
      "source": [
        "# 2.1\n",
        "N= int(input(\"Cantidad de sonidos producidos por el grillo:\"))\n",
        "T = 0\n",
        "if N > 0:\n",
        "    T = N/4 + 40\n",
        "    print(\"temperatura:\",T)\n",
        "else:\n",
        "    print(\"Fin del programa\")"
      ],
      "execution_count": null,
      "outputs": [
        {
          "output_type": "stream",
          "name": "stdout",
          "text": [
            "Cantidad de sonidos producidos por el grillo:50\n",
            "temperatura: 52.5\n"
          ]
        }
      ]
    },
    {
      "cell_type": "code",
      "metadata": {
        "colab": {
          "base_uri": "https://localhost:8080/"
        },
        "id": "P6r4RXC49DKc",
        "outputId": "66362db2-f233-4aab-c41b-fc00aa22b4e7"
      },
      "source": [
        "#2.2\n",
        "P= int(input(\"ingresa tu primer valor entero:\"))\n",
        "Q= int(input(\"ingresa tu segundo valor entero:\"))\n",
        "EXP = P**3 + Q**4 - 2*P**2\n",
        "if EXP < 680:\n",
        "    print(f\"los valores son {P} y {Q}\")\n",
        "else:\n",
        "    print(\"Fin del programa\")"
      ],
      "execution_count": null,
      "outputs": [
        {
          "output_type": "stream",
          "name": "stdout",
          "text": [
            "ingresa tu primer valor intero:2\n",
            "ingresa tu segundo valor intero:4\n",
            "los valores son 2 y 4\n"
          ]
        }
      ]
    },
    {
      "cell_type": "code",
      "metadata": {
        "colab": {
          "base_uri": "https://localhost:8080/"
        },
        "id": "A_Ag1NVgGimN",
        "outputId": "e040bd0b-43b1-48e8-a6e7-611e83bff7fc"
      },
      "source": [
        "#2.3\n",
        "A = float(input(\"Ingresa el dato que sustituira A en la formula:\"))\n",
        "B = float(input(\"Ingresa el dato que sustituira B en la formula:\"))\n",
        "C = float(input(\"Ingresa el dato que sustituira C en la formula:\"))\n",
        "X1=0\n",
        "X2=0\n",
        "DIS = B**2 - 4 * A * C\n",
        "if  DIS >= 0:\n",
        "    X1 = (-B+DIS**0.5)/(2*A)\n",
        "    X2 = (-B-DIS**0.5)/(2*A)\n",
        "    print(\"Raices reales\",X1,X2)\n",
        "else:\n",
        "    print(\"Fin del programa\")"
      ],
      "execution_count": null,
      "outputs": [
        {
          "output_type": "stream",
          "name": "stdout",
          "text": [
            "Ingresa el dato que sustituira A en la formula:3\n",
            "Ingresa el dato que sustituira B en la formula:9\n",
            "Ingresa el dato que sustituira C en la formula:1.5\n",
            "Raices reales -0.17712434446770464 -2.8228756555322954\n"
          ]
        }
      ]
    },
    {
      "cell_type": "code",
      "metadata": {
        "colab": {
          "base_uri": "https://localhost:8080/"
        },
        "id": "eS1wY47x-SXM",
        "outputId": "38aabd5b-0057-4d01-9e13-5be478d7cf90"
      },
      "source": [
        "#2.4\n",
        "MAT = int(input(\"Ingresa tu matricula:\"))\n",
        "cal1 = float(input(\"ingresa tu primera calificación:\"))\n",
        "cal2 = float(input(\"ingresa tu segunda calificación:\"))\n",
        "cal3 = float(input(\"ingresa tu tercera calificación:\"))\n",
        "cal4 = float(input(\"ingresa tu cuarta calificación:\"))\n",
        "cal5 = float(input(\"ingresa tu quinta calificación:\"))\n",
        "PRO = (cal1+cal2+cal3+cal4+cal5)/5\n",
        "if PRO >= 6:\n",
        "    print(MAT,PRO,\"Aprobado\")\n",
        "else:\n",
        "    print(MAT,PRO,\"no aprobado\")\n",
        "\n"
      ],
      "execution_count": 5,
      "outputs": [
        {
          "output_type": "stream",
          "name": "stdout",
          "text": [
            "Ingresa tu matricula:16650\n",
            "ingresa tu primera calificación:5\n",
            "ingresa tu segunda calificación:4.80\n",
            "ingresa tu tercera calificación:7\n",
            "ingresa tu cuarta calificación:6.30\n",
            "ingresa tu quinta calificación:5.90\n",
            "16650 5.8 no aprobado\n"
          ]
        }
      ]
    },
    {
      "cell_type": "code",
      "metadata": {
        "colab": {
          "base_uri": "https://localhost:8080/"
        },
        "id": "1CRXa4yCCFv0",
        "outputId": "89adab4a-a67d-41df-ff67-19d961ba5a53"
      },
      "source": [
        "#2.5\n",
        "NUM = int(input(\"ingresa un numero entero porfavor:\"))\n",
        "if NUM > 0:\n",
        "    print(\"positivo\")\n",
        "else:\n",
        "    if NUM == 0:\n",
        "        print(\"nulo\")\n",
        "        \n",
        "    else:\n",
        "        print(\"negativo\")\n",
        "print(\"fin del programa\")"
      ],
      "execution_count": 16,
      "outputs": [
        {
          "output_type": "stream",
          "name": "stdout",
          "text": [
            "ingresa un numero entero porfavor:0\n",
            "nulo\n",
            "fin del programa\n"
          ]
        }
      ]
    },
    {
      "cell_type": "code",
      "metadata": {
        "colab": {
          "base_uri": "https://localhost:8080/"
        },
        "id": "SPZJer3iE5td",
        "outputId": "cfadfcb6-33a0-48f5-cd62-2f338c0d9ab2"
      },
      "source": [
        "#2.6\n",
        "A = int(input(\"ingresa un numero entero porfavor:\"))\n",
        "if  A == 0:\n",
        "    print(\"Nulo\")\n",
        "else:\n",
        "    if (-1)**A>0:\n",
        "        print(\"Par\")\n",
        "    else:\n",
        "        print(\"Impar\")\n",
        "print(\"fin del programa\")\n"
      ],
      "execution_count": 29,
      "outputs": [
        {
          "output_type": "stream",
          "name": "stdout",
          "text": [
            "ingresa un numero entero porfavor:89\n",
            "Impar\n",
            "fin del programa\n"
          ]
        }
      ]
    },
    {
      "cell_type": "code",
      "metadata": {
        "colab": {
          "base_uri": "https://localhost:8080/"
        },
        "id": "DypdJNjlI_dk",
        "outputId": "1916fad1-55d9-4a2a-b556-2c3d96c8525a"
      },
      "source": [
        "#2.7\n",
        "A = int(input(\"ingresa un numero entero porfavor:\"))\n",
        "B = int(input(\"ingresa un numero entero diferente por favor:\"))\n",
        "C = int(input(\"ingresa un numero entero diferente por favor:\"))\n",
        "if A != B and A != C:\n",
        "    if A < B:\n",
        "        if B < C:\n",
        "            print(\"Los numeros estan en orden creciente\")\n",
        "        else:\n",
        "            print(\"Los numeros no estan en orden creciente\")\n",
        "    else:\n",
        "        print(\"Los numeros no estan en orden creciente\")\n",
        "else:\n",
        "    print(\"ingresa valores diferentes profavor\")\n",
        "\n",
        "\n",
        "\n"
      ],
      "execution_count": 33,
      "outputs": [
        {
          "output_type": "stream",
          "name": "stdout",
          "text": [
            "ingresa un numero entero porfavor:45\n",
            "ingresa un numero entero diferente por favor:89\n",
            "ingresa un numero entero diferente por favor:34567\n",
            "Los numeros estan en orden creciente\n"
          ]
        }
      ]
    },
    {
      "cell_type": "code",
      "metadata": {
        "id": "3tXejwn0MOnl"
      },
      "source": [
        "2.8 89\n"
      ],
      "execution_count": null,
      "outputs": []
    }
  ]
}