{
  "nbformat": 4,
  "nbformat_minor": 0,
  "metadata": {
    "colab": {
      "name": "TAREA6.ipynb",
      "provenance": [],
      "authorship_tag": "ABX9TyOgMXKAnLg7KwDfanxtQuPy",
      "include_colab_link": true
    },
    "kernelspec": {
      "name": "python3",
      "display_name": "Python 3"
    },
    "language_info": {
      "name": "python"
    }
  },
  "cells": [
    {
      "cell_type": "markdown",
      "metadata": {
        "id": "view-in-github",
        "colab_type": "text"
      },
      "source": [
        "<a href=\"https://colab.research.google.com/github/AlexisAO861/ComputadorasyProgramacion-G1157/blob/main/TAREA6.ipynb\" target=\"_parent\"><img src=\"https://colab.research.google.com/assets/colab-badge.svg\" alt=\"Open In Colab\"/></a>"
      ]
    },
    {
      "cell_type": "code",
      "metadata": {
        "id": "4cRKmQgz6eKe",
        "colab": {
          "base_uri": "https://localhost:8080/"
        },
        "outputId": "2c56ad42-7bc0-45eb-ce20-56d54222faf3"
      },
      "source": [
        "# 2.1\n",
        "N= int(input(\"Cantidad de sonidos producidos por el grillo:\"))\n",
        "T = 0\n",
        "if N > 0:\n",
        "    T = N/4 + 40\n",
        "    print(\"temperatura:\",T)\n",
        "else:\n",
        "    print(\"Fin del programa\")"
      ],
      "execution_count": 13,
      "outputs": [
        {
          "output_type": "stream",
          "name": "stdout",
          "text": [
            "Cantidad de sonidos producidos por el grillo:50\n",
            "temperatura: 52.5\n"
          ]
        }
      ]
    },
    {
      "cell_type": "code",
      "metadata": {
        "colab": {
          "base_uri": "https://localhost:8080/"
        },
        "id": "P6r4RXC49DKc",
        "outputId": "66362db2-f233-4aab-c41b-fc00aa22b4e7"
      },
      "source": [
        "#2.2\n",
        "P= int(input(\"ingresa tu primer valor entero:\"))\n",
        "Q= int(input(\"ingresa tu segundo valor entero:\"))\n",
        "EXP = P**3 + Q**4 - 2*P**2\n",
        "if EXP < 680:\n",
        "    print(f\"los valores son {P} y {Q}\")\n",
        "else:\n",
        "    print(\"Fin del programa\")"
      ],
      "execution_count": 19,
      "outputs": [
        {
          "output_type": "stream",
          "name": "stdout",
          "text": [
            "ingresa tu primer valor intero:2\n",
            "ingresa tu segundo valor intero:4\n",
            "los valores son 2 y 4\n"
          ]
        }
      ]
    },
    {
      "cell_type": "code",
      "metadata": {
        "colab": {
          "base_uri": "https://localhost:8080/"
        },
        "id": "A_Ag1NVgGimN",
        "outputId": "e040bd0b-43b1-48e8-a6e7-611e83bff7fc"
      },
      "source": [
        "#2.3\n",
        "A = float(input(\"Ingresa el dato que sustituira A en la formula:\"))\n",
        "B = float(input(\"Ingresa el dato que sustituira B en la formula:\"))\n",
        "C = float(input(\"Ingresa el dato que sustituira C en la formula:\"))\n",
        "X1=0\n",
        "X2=0\n",
        "DIS = B**2 - 4 * A * C\n",
        "if  DIS >= 0:\n",
        "    X1 = (-B+DIS**0.5)/(2*A)\n",
        "    X2 = (-B-DIS**0.5)/(2*A)\n",
        "    print(\"Raices reales\",X1,X2)\n",
        "else:\n",
        "    print(\"Fin del programa\")"
      ],
      "execution_count": 56,
      "outputs": [
        {
          "output_type": "stream",
          "name": "stdout",
          "text": [
            "Ingresa el dato que sustituira A en la formula:3\n",
            "Ingresa el dato que sustituira B en la formula:9\n",
            "Ingresa el dato que sustituira C en la formula:1.5\n",
            "Raices reales -0.17712434446770464 -2.8228756555322954\n"
          ]
        }
      ]
    }
  ]
}