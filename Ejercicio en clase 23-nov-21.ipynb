{
  "nbformat": 4,
  "nbformat_minor": 0,
  "metadata": {
    "colab": {
      "name": "Untitled0.ipynb",
      "provenance": [],
      "authorship_tag": "ABX9TyORzcxbrg+O/Svrb9d3j3aC",
      "include_colab_link": true
    },
    "kernelspec": {
      "name": "python3",
      "display_name": "Python 3"
    },
    "language_info": {
      "name": "python"
    }
  },
  "cells": [
    {
      "cell_type": "markdown",
      "metadata": {
        "id": "view-in-github",
        "colab_type": "text"
      },
      "source": [
        "<a href=\"https://colab.research.google.com/github/AlexisAO861/ComputadorasyProgramacion-G1157/blob/main/Ejercicio%20en%20clase%2023-nov-21.ipynb\" target=\"_parent\"><img src=\"https://colab.research.google.com/assets/colab-badge.svg\" alt=\"Open In Colab\"/></a>"
      ]
    },
    {
      "cell_type": "code",
      "metadata": {
        "colab": {
          "base_uri": "https://localhost:8080/"
        },
        "id": "EcDeDReWNG3L",
        "outputId": "5086669d-631a-4d63-8a22-01b946998b4e"
      },
      "source": [
        "A=int(input(\"Ingresa el primer numero entero: \"))\n",
        "B=int(input(\"Ingresa el segundo numero entero diferente: \"))\n",
        "C=int(input(\"Ingresa el tercer numero entero diferente: \"))\n",
        " \n",
        "if A==B==C or A==B or A==C or B==C:\n",
        "    print(\"ALGUNOS NÚMEROS SON IGUALES, ingresa 3 NUMEROS DIFERENTES\")\n",
        "if A>B:\n",
        "    if A>C: \n",
        "        if B>C:\n",
        "            print(\"ORDEN MAYOR A MENOR : \",A, B, C)\n",
        "        else:\n",
        "            print(\"ORDEN MAYOR A MENOR : \",A, C, B)\n",
        "    else: print(\"ORDEN MAYOR A MENOR : \",C, A, B)\n",
        "else:\n",
        "    if B>C: \n",
        "        if A>C:\n",
        "            print(\"ORDEN MAYOR A MENOR : \",B, A, C)\n",
        "        else:\n",
        "            print(\"ORDEN MAYOR A MENOR : \",B, C, A)\n",
        "    else: print(\"ORDEN MAYOR A MENOR : \",C, B, A)\n",
        " \n",
        "print(\"*FIN DEL PROGRAMA*\")"
      ],
      "execution_count": 1,
      "outputs": [
        {
          "output_type": "stream",
          "name": "stdout",
          "text": [
            "Ingresa el primer numero entero: 6\n",
            "Ingresa el segundo numero entero diferente: 78\n",
            "Ingresa el tercer numero entero diferente: 324\n",
            "ORDEN MAYOR A MENOR :  324 78 6\n",
            "*FIN DEL PROGRAMA*\n"
          ]
        }
      ]
    }
  ]
}