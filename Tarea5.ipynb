{
  "nbformat": 4,
  "nbformat_minor": 0,
  "metadata": {
    "colab": {
      "name": "cyp2022.ipynb",
      "provenance": [],
      "authorship_tag": "ABX9TyM5cNrS0iBQlJagB5TQf6Xc",
      "include_colab_link": true
    },
    "kernelspec": {
      "name": "python3",
      "display_name": "Python 3"
    },
    "language_info": {
      "name": "python"
    }
  },
  "cells": [
    {
      "cell_type": "markdown",
      "metadata": {
        "id": "view-in-github",
        "colab_type": "text"
      },
      "source": [
        "<a href=\"https://colab.research.google.com/github/AlexisAO861/ComputadorasyProgramacion-G1157/blob/main/Tarea5.ipynb\" target=\"_parent\"><img src=\"https://colab.research.google.com/assets/colab-badge.svg\" alt=\"Open In Colab\"/></a>"
      ]
    },
    {
      "cell_type": "code",
      "metadata": {
        "id": "yeq_SF7a0oIj",
        "colab": {
          "base_uri": "https://localhost:8080/"
        },
        "outputId": "56825dc8-6188-4c24-9d4c-812e5e3ba6cb"
      },
      "source": [
        "print(\"Dame dos numeros\")\n",
        "numero1 = int(input(\"Dame tu primer numero:\"))\n",
        "numero2 = int(input(\"Dame tu segundo numero:\"))\n",
        "if numero1==numero2:\n",
        "    print(\"los dos numeros ingresados son iguales\")\n",
        "elif numero1>numero2:\n",
        "    print(f\"el numero:{numero1} es mayor a:{numero2}\")\n",
        "else:\n",
        "    print(f\"el numero:{numero2} es mayor a:{numero1}\")"
      ],
      "execution_count": 69,
      "outputs": [
        {
          "output_type": "stream",
          "name": "stdout",
          "text": [
            "Dame dos numeros\n",
            "Dame tu primer numero:-89\n",
            "Dame tu segundo numero:67\n",
            "el numero:67 es mayor a:-89\n"
          ]
        }
      ]
    },
    {
      "cell_type": "code",
      "metadata": {
        "colab": {
          "base_uri": "https://localhost:8080/"
        },
        "id": "_WLvjsaxmXST",
        "outputId": "80719f98-093a-4705-bd26-b8bedf07bbf2"
      },
      "source": [
        "print(\"Ingresa 3 numeros distintos\")\n",
        "n1 = int(input(\"Dame tu primer numero:\"))\n",
        "n2 = int(input(\"Dame tu segundo numero:\"))\n",
        "n3 = int(input(\"Dame tu tercer numero:\"))\n",
        "if n1 == n2 and n1 == n3:\n",
        "    print(\"los numeros que ingresaste son iguales, intentalo de nuevo\")\n",
        "elif n1>n2 and n1>n3:\n",
        "    print(f\"el numero:{n1} es mayor\")\n",
        "elif n2>n1 and n2>n3:\n",
        "    print(f\"el numero:{n2} es mayor\")\n",
        "else:\n",
        "    print(f\"el numero:{n3} es mayor\")"
      ],
      "execution_count": 72,
      "outputs": [
        {
          "output_type": "stream",
          "name": "stdout",
          "text": [
            "Ingresa 3 numeros distintos\n",
            "Dame tu primer numero:8\n",
            "Dame tu segundo numero:9\n",
            "Dame tu tercer numero:3\n",
            "el numero:9 es mayor\n"
          ]
        }
      ]
    },
    {
      "cell_type": "code",
      "metadata": {
        "colab": {
          "base_uri": "https://localhost:8080/"
        },
        "id": "zbjJ6GzfqJhQ",
        "outputId": "e61be13d-8a28-4fce-bdf3-6fe8296a33ad"
      },
      "source": [
        "print(\"Ingresa 3 numeros distintos\")\n",
        "n1 = int(input(\"Dame tu primer numero:\"))\n",
        "n2 = int(input(\"Dame tu segundo numero:\"))\n",
        "n3 = int(input(\"Dame tu tercer numero:\"))\n",
        "if n1 == n2 and n1 == n3:\n",
        "    print(\"los numeros que ingresaste son iguales, intentalo de nuevo\")\n",
        "elif n1<n2 and n1<n3:\n",
        "    print(f\"el numero menor es:{n1}\")\n",
        "elif n2<n1 and n2<n3:\n",
        "    print(f\"el numero menor es:{n2}\")\n",
        "else:\n",
        "    print(f\"el numero menor es:{n3}\")"
      ],
      "execution_count": 73,
      "outputs": [
        {
          "output_type": "stream",
          "name": "stdout",
          "text": [
            "Ingresa 3 numeros distintos\n",
            "Dame tu primer numero:8\n",
            "Dame tu segundo numero:9\n",
            "Dame tu tercer numero:54\n",
            "el numero menor es:8\n"
          ]
        }
      ]
    },
    {
      "cell_type": "code",
      "metadata": {
        "colab": {
          "base_uri": "https://localhost:8080/"
        },
        "id": "PSRZepzOq17V",
        "outputId": "1437b504-48ca-4ab3-fd7d-3231471653f8"
      },
      "source": [
        "print(\"Ingresa 4 numeros distintos\")\n",
        "n1 = int(input(\"Dame tu primer numero:\"))\n",
        "n2 = int(input(\"Dame tu segundo numero:\"))\n",
        "n3 = int(input(\"Dame tu tercer numero:\"))\n",
        "n4 = int(input(\"Dame tu cuarto numero\"))\n",
        "if n1 == n2 and n1 == n3 and n1 == n4:\n",
        "    print(\"los numeros que ingresaste son iguales, intentalo de nuevo\")\n",
        "elif n1==n2: \n",
        "    print(\"uno de los numeros son iguales, dame 4 numeros diferentes\")\n",
        "elif n1==n3: \n",
        "    print(\"uno de los numeros son iguales, dame 4 numeros diferentes\")\n",
        "elif n1==n4: \n",
        "    print(\"uno de los numeros son iguales, dame 4 numeros diferentes\")\n",
        "else:\n",
        "    if n1 > n2 and n1 > n3 and n1 > n4: # identificar mayor\n",
        "        print(f\"el numero mayor es:{n1}\")\n",
        "    else:\n",
        "        if n2 > n1 and n2 > n3 and n1 > n4:\n",
        "            print(f\"el numero mayor es:{n2}\")\n",
        "        else:\n",
        "            if n3 > n1 and n3 > n2 and n3 > n4:\n",
        "                print(f\"el numero mayor es:{n3}\")\n",
        "            else:\n",
        "                print(f\"el numero mayor es:{n4}\")\n",
        "    if n1 < n2 and n1 < n3 and n1 < n4:# identificar menor\n",
        "        print(f\"el numero menor es:{n1}\")\n",
        "    else:\n",
        "        if n2 < n1 and n2 < n3 and n2 < n4:\n",
        "            print(f\"el numero menor es:{n2}\")\n",
        "        else:\n",
        "            if n3 < n1 and n3 < n2 and n3 < n4:\n",
        "                print(f\"el numero menor es:{n3}\")\n",
        "            else:\n",
        "                print(f\"el numero menor es:{n4}\")\n"
      ],
      "execution_count": 74,
      "outputs": [
        {
          "output_type": "stream",
          "name": "stdout",
          "text": [
            "Ingresa 4 numeros distintos\n",
            "Dame tu primer numero:78\n",
            "Dame tu segundo numero:-7\n",
            "Dame tu tercer numero:7\n",
            "Dame tu cuarto numero789\n",
            "el numero mayor es:789\n",
            "el numero menor es:-7\n"
          ]
        }
      ]
    }
  ]
}