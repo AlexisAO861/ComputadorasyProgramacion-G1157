{
  "nbformat": 4,
  "nbformat_minor": 0,
  "metadata": {
    "colab": {
      "name": "Fundamentos2_Cyp_1157.ipynb",
      "provenance": [],
      "collapsed_sections": [],
      "authorship_tag": "ABX9TyMXAoc9Pcx7CT10WvcBhM6a",
      "include_colab_link": true
    },
    "kernelspec": {
      "name": "python3",
      "display_name": "Python 3"
    },
    "language_info": {
      "name": "python"
    }
  },
  "cells": [
    {
      "cell_type": "markdown",
      "metadata": {
        "id": "view-in-github",
        "colab_type": "text"
      },
      "source": [
        "<a href=\"https://colab.research.google.com/github/AlexisAO861/ComputadorasyProgramacion-G1157/blob/main/23/11/2021.ipynb\" target=\"_parent\"><img src=\"https://colab.research.google.com/assets/colab-badge.svg\" alt=\"Open In Colab\"/></a>"
      ]
    },
    {
      "cell_type": "markdown",
      "metadata": {
        "id": "F5yuXcrfFjeQ"
      },
      "source": [
        "# Tipos de datos estuccturados de pyton \n",
        "\n",
        "1. listas\n",
        "2. tuplas\n",
        "3. diccionarios \n",
        "4. conjuntos "
      ]
    },
    {
      "cell_type": "markdown",
      "metadata": {
        "id": "9A68kDdoF09e"
      },
      "source": [
        "#Listas \n",
        "\n",
        "- Tipos de datos que agrupan variablas o valores.\n",
        "- Se declara de dos formas #\n",
        "    - usando [ ]\n",
        "    - usando list ( )\n",
        "- Puede contener tipos de datos diversos (En otros lenguajes de prog. eso no es posible de forma directa)\n",
        "- Los elemtos internos se seleccionan con [ ]\n",
        "- soportan slicing\n",
        "- Son mutables\n",
        "- generadores [var in for x in range (10)]\n",
        "- al ser una clase contiene muchos metodos utiles "
      ]
    },
    {
      "cell_type": "code",
      "metadata": {
        "colab": {
          "base_uri": "https://localhost:8080/"
        },
        "id": "XyxGh62cFZan",
        "outputId": "7b9b9223-cbc9-4f13-bc5d-c69b385ac1cc"
      },
      "source": [
        "numeros = [10,5,2,3,1]\n",
        "print(numeros)\n",
        "\n",
        "numeros2 = list( )\n",
        "numeros2.append(10)\n",
        "numeros2.append(5)\n",
        "numeros2.append(2)\n",
        "numeros2.append(3)\n",
        "numeros2.append(1)\n",
        "print(numeros2)\n",
        "\n",
        "numeros [2] = 20\n",
        "print(numeros)\n",
        "numeros [ -1 ] = 33\n",
        "print(numeros)\n",
        "numeros.append(88)\n",
        "print(numeros)"
      ],
      "execution_count": null,
      "outputs": [
        {
          "output_type": "stream",
          "name": "stdout",
          "text": [
            "[10, 5, 2, 3, 1]\n",
            "[10, 5, 2, 3, 1]\n",
            "[10, 5, 20, 3, 1]\n",
            "[10, 5, 20, 3, 33]\n",
            "[10, 5, 20, 3, 33, 88]\n"
          ]
        }
      ]
    },
    {
      "cell_type": "code",
      "metadata": {
        "colab": {
          "base_uri": "https://localhost:8080/"
        },
        "id": "Umxa2CRKIfuO",
        "outputId": "0f495b64-2135-4a95-ff78-70a6adc3788c"
      },
      "source": [
        "# Tipos diversos\n",
        "\n",
        "cosas =[12,2, True ,\"alex\", 1.57,[\"pera\", \"kiwi\", \"uva\"]]\n",
        "print(cosas)\n",
        "print(cosas[1])\n",
        "print(cosas[4])\n",
        "print(cosas[5])\n",
        "print(cosas[5][1]) # el doble [] es para seleccionar niveles \n",
        "print(cosas[3][1:3:])\n",
        "\n",
        "cosas[3] = cosas [3].upper()\n",
        "print(cosas)\n"
      ],
      "execution_count": null,
      "outputs": [
        {
          "output_type": "stream",
          "name": "stdout",
          "text": [
            "[12, 2, True, 'alex', 1.57, ['pera', 'kiwi', 'uva']]\n",
            "2\n",
            "1.57\n",
            "['pera', 'kiwi', 'uva']\n",
            "kiwi\n",
            "le\n",
            "[12, 2, True, 'ALEX', 1.57, ['pera', 'kiwi', 'uva']]\n"
          ]
        }
      ]
    },
    {
      "cell_type": "code",
      "metadata": {
        "colab": {
          "base_uri": "https://localhost:8080/"
        },
        "id": "U8xcs1M9L7l3",
        "outputId": "5d805a05-64b6-4b9c-ccb2-3f04f6235974"
      },
      "source": [
        "numeros = [1,2,3,4,5,6,7,8,9,10,11]\n",
        "print(numeros)\n",
        "# slicing \n",
        "# 1.-4 al 8\n",
        "print( numeros [3:8:])\n",
        "# 2. [9,10]\n",
        "print(numeros [8:10])\n",
        "print(numeros [-3:-1:])\n",
        "# 3. imprimir la lista en orden inverso\n",
        "print(numeros [::-1])"
      ],
      "execution_count": null,
      "outputs": [
        {
          "output_type": "stream",
          "name": "stdout",
          "text": [
            "[1, 2, 3, 4, 5, 6, 7, 8, 9, 10, 11]\n",
            "[4, 5, 6, 7, 8]\n",
            "[9, 10]\n",
            "[9, 10]\n",
            "[11, 10, 9, 8, 7, 6, 5, 4, 3, 2, 1]\n"
          ]
        }
      ]
    },
    {
      "cell_type": "code",
      "metadata": {
        "colab": {
          "base_uri": "https://localhost:8080/"
        },
        "id": "3Jx1kWQhPHdk",
        "outputId": "70e9938d-f10c-43d1-d2c5-a8bfe30e445f"
      },
      "source": [
        "# crear una lista con un generador \n",
        "numeros =[x*3 for x in range(1001)]\n",
        "print(numeros)\n"
      ],
      "execution_count": null,
      "outputs": [
        {
          "output_type": "stream",
          "name": "stdout",
          "text": [
            "[0, 3, 6, 9, 12, 15, 18, 21, 24, 27, 30, 33, 36, 39, 42, 45, 48, 51, 54, 57, 60, 63, 66, 69, 72, 75, 78, 81, 84, 87, 90, 93, 96, 99, 102, 105, 108, 111, 114, 117, 120, 123, 126, 129, 132, 135, 138, 141, 144, 147, 150, 153, 156, 159, 162, 165, 168, 171, 174, 177, 180, 183, 186, 189, 192, 195, 198, 201, 204, 207, 210, 213, 216, 219, 222, 225, 228, 231, 234, 237, 240, 243, 246, 249, 252, 255, 258, 261, 264, 267, 270, 273, 276, 279, 282, 285, 288, 291, 294, 297, 300, 303, 306, 309, 312, 315, 318, 321, 324, 327, 330, 333, 336, 339, 342, 345, 348, 351, 354, 357, 360, 363, 366, 369, 372, 375, 378, 381, 384, 387, 390, 393, 396, 399, 402, 405, 408, 411, 414, 417, 420, 423, 426, 429, 432, 435, 438, 441, 444, 447, 450, 453, 456, 459, 462, 465, 468, 471, 474, 477, 480, 483, 486, 489, 492, 495, 498, 501, 504, 507, 510, 513, 516, 519, 522, 525, 528, 531, 534, 537, 540, 543, 546, 549, 552, 555, 558, 561, 564, 567, 570, 573, 576, 579, 582, 585, 588, 591, 594, 597, 600, 603, 606, 609, 612, 615, 618, 621, 624, 627, 630, 633, 636, 639, 642, 645, 648, 651, 654, 657, 660, 663, 666, 669, 672, 675, 678, 681, 684, 687, 690, 693, 696, 699, 702, 705, 708, 711, 714, 717, 720, 723, 726, 729, 732, 735, 738, 741, 744, 747, 750, 753, 756, 759, 762, 765, 768, 771, 774, 777, 780, 783, 786, 789, 792, 795, 798, 801, 804, 807, 810, 813, 816, 819, 822, 825, 828, 831, 834, 837, 840, 843, 846, 849, 852, 855, 858, 861, 864, 867, 870, 873, 876, 879, 882, 885, 888, 891, 894, 897, 900, 903, 906, 909, 912, 915, 918, 921, 924, 927, 930, 933, 936, 939, 942, 945, 948, 951, 954, 957, 960, 963, 966, 969, 972, 975, 978, 981, 984, 987, 990, 993, 996, 999, 1002, 1005, 1008, 1011, 1014, 1017, 1020, 1023, 1026, 1029, 1032, 1035, 1038, 1041, 1044, 1047, 1050, 1053, 1056, 1059, 1062, 1065, 1068, 1071, 1074, 1077, 1080, 1083, 1086, 1089, 1092, 1095, 1098, 1101, 1104, 1107, 1110, 1113, 1116, 1119, 1122, 1125, 1128, 1131, 1134, 1137, 1140, 1143, 1146, 1149, 1152, 1155, 1158, 1161, 1164, 1167, 1170, 1173, 1176, 1179, 1182, 1185, 1188, 1191, 1194, 1197, 1200, 1203, 1206, 1209, 1212, 1215, 1218, 1221, 1224, 1227, 1230, 1233, 1236, 1239, 1242, 1245, 1248, 1251, 1254, 1257, 1260, 1263, 1266, 1269, 1272, 1275, 1278, 1281, 1284, 1287, 1290, 1293, 1296, 1299, 1302, 1305, 1308, 1311, 1314, 1317, 1320, 1323, 1326, 1329, 1332, 1335, 1338, 1341, 1344, 1347, 1350, 1353, 1356, 1359, 1362, 1365, 1368, 1371, 1374, 1377, 1380, 1383, 1386, 1389, 1392, 1395, 1398, 1401, 1404, 1407, 1410, 1413, 1416, 1419, 1422, 1425, 1428, 1431, 1434, 1437, 1440, 1443, 1446, 1449, 1452, 1455, 1458, 1461, 1464, 1467, 1470, 1473, 1476, 1479, 1482, 1485, 1488, 1491, 1494, 1497, 1500, 1503, 1506, 1509, 1512, 1515, 1518, 1521, 1524, 1527, 1530, 1533, 1536, 1539, 1542, 1545, 1548, 1551, 1554, 1557, 1560, 1563, 1566, 1569, 1572, 1575, 1578, 1581, 1584, 1587, 1590, 1593, 1596, 1599, 1602, 1605, 1608, 1611, 1614, 1617, 1620, 1623, 1626, 1629, 1632, 1635, 1638, 1641, 1644, 1647, 1650, 1653, 1656, 1659, 1662, 1665, 1668, 1671, 1674, 1677, 1680, 1683, 1686, 1689, 1692, 1695, 1698, 1701, 1704, 1707, 1710, 1713, 1716, 1719, 1722, 1725, 1728, 1731, 1734, 1737, 1740, 1743, 1746, 1749, 1752, 1755, 1758, 1761, 1764, 1767, 1770, 1773, 1776, 1779, 1782, 1785, 1788, 1791, 1794, 1797, 1800, 1803, 1806, 1809, 1812, 1815, 1818, 1821, 1824, 1827, 1830, 1833, 1836, 1839, 1842, 1845, 1848, 1851, 1854, 1857, 1860, 1863, 1866, 1869, 1872, 1875, 1878, 1881, 1884, 1887, 1890, 1893, 1896, 1899, 1902, 1905, 1908, 1911, 1914, 1917, 1920, 1923, 1926, 1929, 1932, 1935, 1938, 1941, 1944, 1947, 1950, 1953, 1956, 1959, 1962, 1965, 1968, 1971, 1974, 1977, 1980, 1983, 1986, 1989, 1992, 1995, 1998, 2001, 2004, 2007, 2010, 2013, 2016, 2019, 2022, 2025, 2028, 2031, 2034, 2037, 2040, 2043, 2046, 2049, 2052, 2055, 2058, 2061, 2064, 2067, 2070, 2073, 2076, 2079, 2082, 2085, 2088, 2091, 2094, 2097, 2100, 2103, 2106, 2109, 2112, 2115, 2118, 2121, 2124, 2127, 2130, 2133, 2136, 2139, 2142, 2145, 2148, 2151, 2154, 2157, 2160, 2163, 2166, 2169, 2172, 2175, 2178, 2181, 2184, 2187, 2190, 2193, 2196, 2199, 2202, 2205, 2208, 2211, 2214, 2217, 2220, 2223, 2226, 2229, 2232, 2235, 2238, 2241, 2244, 2247, 2250, 2253, 2256, 2259, 2262, 2265, 2268, 2271, 2274, 2277, 2280, 2283, 2286, 2289, 2292, 2295, 2298, 2301, 2304, 2307, 2310, 2313, 2316, 2319, 2322, 2325, 2328, 2331, 2334, 2337, 2340, 2343, 2346, 2349, 2352, 2355, 2358, 2361, 2364, 2367, 2370, 2373, 2376, 2379, 2382, 2385, 2388, 2391, 2394, 2397, 2400, 2403, 2406, 2409, 2412, 2415, 2418, 2421, 2424, 2427, 2430, 2433, 2436, 2439, 2442, 2445, 2448, 2451, 2454, 2457, 2460, 2463, 2466, 2469, 2472, 2475, 2478, 2481, 2484, 2487, 2490, 2493, 2496, 2499, 2502, 2505, 2508, 2511, 2514, 2517, 2520, 2523, 2526, 2529, 2532, 2535, 2538, 2541, 2544, 2547, 2550, 2553, 2556, 2559, 2562, 2565, 2568, 2571, 2574, 2577, 2580, 2583, 2586, 2589, 2592, 2595, 2598, 2601, 2604, 2607, 2610, 2613, 2616, 2619, 2622, 2625, 2628, 2631, 2634, 2637, 2640, 2643, 2646, 2649, 2652, 2655, 2658, 2661, 2664, 2667, 2670, 2673, 2676, 2679, 2682, 2685, 2688, 2691, 2694, 2697, 2700, 2703, 2706, 2709, 2712, 2715, 2718, 2721, 2724, 2727, 2730, 2733, 2736, 2739, 2742, 2745, 2748, 2751, 2754, 2757, 2760, 2763, 2766, 2769, 2772, 2775, 2778, 2781, 2784, 2787, 2790, 2793, 2796, 2799, 2802, 2805, 2808, 2811, 2814, 2817, 2820, 2823, 2826, 2829, 2832, 2835, 2838, 2841, 2844, 2847, 2850, 2853, 2856, 2859, 2862, 2865, 2868, 2871, 2874, 2877, 2880, 2883, 2886, 2889, 2892, 2895, 2898, 2901, 2904, 2907, 2910, 2913, 2916, 2919, 2922, 2925, 2928, 2931, 2934, 2937, 2940, 2943, 2946, 2949, 2952, 2955, 2958, 2961, 2964, 2967, 2970, 2973, 2976, 2979, 2982, 2985, 2988, 2991, 2994, 2997, 3000]\n"
          ]
        }
      ]
    },
    {
      "cell_type": "markdown",
      "metadata": {
        "id": "sA0KpZQgQayJ"
      },
      "source": [
        "# funsion range ()\n",
        "tiene los mismos componentes que slicing \n",
        "\n",
        "ini, stop, incremento\n",
        "\n",
        "range(1 , 101, 1)"
      ]
    },
    {
      "cell_type": "code",
      "metadata": {
        "colab": {
          "base_uri": "https://localhost:8080/"
        },
        "id": "S2STZjsyQ3QR",
        "outputId": "4478eb05-4f01-49b6-a6ca-a9c231e0d777"
      },
      "source": [
        "numeros =[x for x in range(50, 101, 5)]\n",
        "print(numeros)"
      ],
      "execution_count": null,
      "outputs": [
        {
          "output_type": "stream",
          "name": "stdout",
          "text": [
            "[50, 55, 60, 65, 70, 75, 80, 85, 90, 95, 100]\n"
          ]
        }
      ]
    },
    {
      "cell_type": "markdown",
      "metadata": {
        "id": "wzka71wTRLaV"
      },
      "source": [
        "# Metodos disponibles de las listas "
      ]
    },
    {
      "cell_type": "code",
      "metadata": {
        "colab": {
          "base_uri": "https://localhost:8080/"
        },
        "id": "d8sLkAGBRQoF",
        "outputId": "a19085e5-6adf-4688-bddf-d63ebac38735"
      },
      "source": [
        "dir(list)"
      ],
      "execution_count": null,
      "outputs": [
        {
          "output_type": "execute_result",
          "data": {
            "text/plain": [
              "['__add__',\n",
              " '__class__',\n",
              " '__contains__',\n",
              " '__delattr__',\n",
              " '__delitem__',\n",
              " '__dir__',\n",
              " '__doc__',\n",
              " '__eq__',\n",
              " '__format__',\n",
              " '__ge__',\n",
              " '__getattribute__',\n",
              " '__getitem__',\n",
              " '__gt__',\n",
              " '__hash__',\n",
              " '__iadd__',\n",
              " '__imul__',\n",
              " '__init__',\n",
              " '__init_subclass__',\n",
              " '__iter__',\n",
              " '__le__',\n",
              " '__len__',\n",
              " '__lt__',\n",
              " '__mul__',\n",
              " '__ne__',\n",
              " '__new__',\n",
              " '__reduce__',\n",
              " '__reduce_ex__',\n",
              " '__repr__',\n",
              " '__reversed__',\n",
              " '__rmul__',\n",
              " '__setattr__',\n",
              " '__setitem__',\n",
              " '__sizeof__',\n",
              " '__str__',\n",
              " '__subclasshook__',\n",
              " 'append',\n",
              " 'clear',\n",
              " 'copy',\n",
              " 'count',\n",
              " 'extend',\n",
              " 'index',\n",
              " 'insert',\n",
              " 'pop',\n",
              " 'remove',\n",
              " 'reverse',\n",
              " 'sort']"
            ]
          },
          "metadata": {},
          "execution_count": 38
        }
      ]
    },
    {
      "cell_type": "code",
      "metadata": {
        "colab": {
          "base_uri": "https://localhost:8080/"
        },
        "id": "P8a6yaBKSZyL",
        "outputId": "aea442f1-6cff-40f4-9dce-9ac1c856e2c4"
      },
      "source": [
        "numeros = [ 4,15,8,22,34,50 ]\n",
        "print(numeros)\n",
        "numeros.append( 99 ) # agrega un 99\n",
        "print(numeros)\n",
        "numeros.clear() # elimina lista\n",
        "print(numeros)\n",
        "\n",
        "frutas = [\"uvas\" , \"kiwi\" , \"manzana\"]\n",
        "copia = frutas\n",
        "print(frutas)\n",
        "print(copia)\n",
        "frutas.append(\"naranja\")\n",
        "print(frutas)\n",
        "print(copia)\n",
        "\n",
        "colores = [\"rojo\" , \"azul\", \"blanco\"]\n",
        "copia2 = colores.copy()\n",
        "print(colores)\n",
        "print(copia2)\n",
        "colores.append(\"verde\")\n",
        "print(colores)\n",
        "print(copia2)\n",
        "\n",
        "print(\"numero de veces que aparece el 15=\" , numeros.count(15))\n",
        "\n",
        "# extend\n",
        "\n",
        "nombre = [\"jose\",\"padro\",\"karina\"]\n",
        "otrosNombres = [\"josue\",\"diana\",\"dalia\"]\n",
        "\n",
        "print(nombre)\n",
        "print(otrosNombres)\n",
        "nombres = nombre + otrosNombres\n",
        "print(nombres)\n",
        "print(otrosNombres)\n",
        "\n",
        "#lo mismo con el metodo extend\n",
        "otrosNombres.extend([\"jesus\",\"maria\",\"jose\"])\n",
        "print(otrosNombres)\n",
        "print(\"jesus esta en la posicion:\" , otrosNombres.index(\"jesus\"))\n",
        "otrosNombres.insert(4, \"Espiritu santo\")\n",
        "print(otrosNombres)\n",
        "\n",
        "#pop\n",
        "resultado = otrosNombres.pop()\n",
        "print(otrosNombres)\n",
        "print(resultado)\n",
        "\n"
      ],
      "execution_count": null,
      "outputs": [
        {
          "output_type": "stream",
          "name": "stdout",
          "text": [
            "[4, 15, 8, 22, 34, 50]\n",
            "[4, 15, 8, 22, 34, 50, 99]\n",
            "[]\n",
            "['uvas', 'kiwi', 'manzana']\n",
            "['uvas', 'kiwi', 'manzana']\n",
            "['uvas', 'kiwi', 'manzana', 'naranja']\n",
            "['uvas', 'kiwi', 'manzana', 'naranja']\n",
            "['rojo', 'azul', 'blanco']\n",
            "['rojo', 'azul', 'blanco']\n",
            "['rojo', 'azul', 'blanco', 'verde']\n",
            "['rojo', 'azul', 'blanco']\n",
            "numero de veces que aparece el 15= 0\n",
            "['jose', 'padro', 'karina']\n",
            "['josue', 'diana', 'dalia']\n",
            "['jose', 'padro', 'karina', 'josue', 'diana', 'dalia']\n",
            "['josue', 'diana', 'dalia']\n",
            "['josue', 'diana', 'dalia', 'jesus', 'maria', 'jose']\n",
            "jesus esta en la posicion: 3\n",
            "['josue', 'diana', 'dalia', 'jesus', 'Espiritu santo', 'maria', 'jose']\n",
            "['josue', 'diana', 'dalia', 'jesus', 'Espiritu santo', 'maria']\n",
            "jose\n"
          ]
        }
      ]
    },
    {
      "cell_type": "markdown",
      "metadata": {
        "id": "4Yl-nPIqwB7-"
      },
      "source": [
        "#Tuplas\n",
        "\n",
        "### Caracteristicas de las tuplas \n",
        "\n",
        "- Datos agrupados\n",
        "- Se declara usando#\n",
        "  - ()\n",
        "  - tuplas \n",
        "- Estructura secuencial, indexada a partir de 0.\n",
        "- Pueden tener de 0 a n elemtos\n",
        "- No son mutables(no se puede: eliminar y/o cambbiar)\n",
        "- Son buenas para almacenar informacionde consulta\n",
        "- Pueden almacenar inf de diferentes tipos de datos \n",
        "- Pueden estar anidadas \n",
        "- Tienen metodos utiles  \n"
      ]
    },
    {
      "cell_type": "code",
      "metadata": {
        "colab": {
          "base_uri": "https://localhost:8080/"
        },
        "id": "gWNY43LowX1E",
        "outputId": "f78e1d6d-b776-4f38-f770-caf2973fa818"
      },
      "source": [
        " info =(\"juan23\" , \"dios1234\" , \"123.232.1.12\" )\n",
        " print( info )\n",
        " print( info[ 1 ])\n",
        " # info [1] = \"patito23\"\n",
        "\n",
        " numeros = (0,1,2,3,4,5,6,7,8,9,10,11,12,13,14,15)\n",
        " print( numeros )\n",
        " print(numeros[5:11])\n",
        "\n",
        " cosas = (info , numeros )\n",
        " print( cosas )\n",
        " print( cosas[1][5:11:1])\n",
        " print(cosas[0][2][4:7])\n",
        " print(cosas[0][2][-8:-5])"
      ],
      "execution_count": null,
      "outputs": [
        {
          "output_type": "stream",
          "name": "stdout",
          "text": [
            "('juan23', 'dios1234', '123.232.1.12')\n",
            "dios1234\n",
            "(0, 1, 2, 3, 4, 5, 6, 7, 8, 9, 10, 11, 12, 13, 14, 15)\n",
            "(5, 6, 7, 8, 9, 10)\n",
            "(('juan23', 'dios1234', '123.232.1.12'), (0, 1, 2, 3, 4, 5, 6, 7, 8, 9, 10, 11, 12, 13, 14, 15))\n",
            "(5, 6, 7, 8, 9, 10)\n",
            "232\n",
            "232\n"
          ]
        }
      ]
    },
    {
      "cell_type": "markdown",
      "metadata": {
        "id": "p7BXxwX60sn-"
      },
      "source": [
        "# metodos de la tuplas \n",
        "son los mismos de las listas pero los que no involucren mutabilidad"
      ]
    },
    {
      "cell_type": "code",
      "metadata": {
        "colab": {
          "base_uri": "https://localhost:8080/"
        },
        "id": "s3dviZ_81sPo",
        "outputId": "11c18c61-5449-4128-b419-41bf67f0a44c"
      },
      "source": [
        "dir(tuple)"
      ],
      "execution_count": null,
      "outputs": [
        {
          "output_type": "execute_result",
          "data": {
            "text/plain": [
              "['__add__',\n",
              " '__class__',\n",
              " '__contains__',\n",
              " '__delattr__',\n",
              " '__dir__',\n",
              " '__doc__',\n",
              " '__eq__',\n",
              " '__format__',\n",
              " '__ge__',\n",
              " '__getattribute__',\n",
              " '__getitem__',\n",
              " '__getnewargs__',\n",
              " '__gt__',\n",
              " '__hash__',\n",
              " '__init__',\n",
              " '__init_subclass__',\n",
              " '__iter__',\n",
              " '__le__',\n",
              " '__len__',\n",
              " '__lt__',\n",
              " '__mul__',\n",
              " '__ne__',\n",
              " '__new__',\n",
              " '__reduce__',\n",
              " '__reduce_ex__',\n",
              " '__repr__',\n",
              " '__rmul__',\n",
              " '__setattr__',\n",
              " '__sizeof__',\n",
              " '__str__',\n",
              " '__subclasshook__',\n",
              " 'count',\n",
              " 'index']"
            ]
          },
          "metadata": {},
          "execution_count": 10
        }
      ]
    },
    {
      "cell_type": "markdown",
      "metadata": {
        "id": "ebBO2PGQ2ya9"
      },
      "source": [
        "# diccionario\n",
        "### caracteristicas de los diccionarios\n",
        "\n",
        "- Agrupan datos pero de forma no lineal.\n",
        "- S e decraran:\n",
        "  - {}\n",
        "  -dict()\n",
        "- Formado por pares del tipo llave:valor, Donde\n",
        "  - Llave es de tipo stiling (simpre)\n",
        "  - valor puede se de cualquier tipo de datos, incluyendo los diccionarios\n",
        "- Se seleccionan con la llave de la forma: [\"id_llave\"']\n",
        "- Son mutables\n",
        "- Son anidables\n",
        "- Son equivalente al tipo de dato JSON del lenguaje JavaScript(JS) \n"
      ]
    },
    {
      "cell_type": "code",
      "metadata": {
        "colab": {
          "base_uri": "https://localhost:8080/"
        },
        "id": "Qx0aQxC44NMB",
        "outputId": "cd07d23e-dafb-4706-f163-4793e11a039d"
      },
      "source": [
        "alumno ={\"nombre\" : \"josé\" }\n",
        "print( alumno )\n",
        "print( alumno[\"nombre\"])\n",
        "alumno = { \"nombre\" : \"josé\" , \"nc\":\"2129229292\", \"edad\":18}\n",
        "print(\"Edad del alumno =\" , alumno[\"edad\"])\n",
        "print(\"Nombre de alumno =\", alumno[\"nombre\"].upper()) # upper() es para mayusculas\n",
        "print(alumno)\n",
        "\n",
        "\n",
        "alumno2 = dict() # { }\n",
        "alumno2[\"nombre\"] = \"jose\"\n",
        "print(alumno2)\n",
        "alumno2[\"nc\"] = \"2129229292\"\n",
        "alumno2[\"edad\"] =18\n",
        "print(alumno2)\n",
        "alumno2[\"edad\"] = alumno2[\"edad\"] + 1\n",
        "print(alumno2)\n",
        "\n",
        "\n",
        "\n"
      ],
      "execution_count": null,
      "outputs": [
        {
          "output_type": "stream",
          "name": "stdout",
          "text": [
            "{'nombre': 'josé'}\n",
            "josé\n",
            "Edad del alumno = 18\n",
            "Nombre de alumno = JOSÉ\n",
            "{'nombre': 'josé', 'nc': '2129229292', 'edad': 18}\n",
            "{'nombre': 'jose'}\n",
            "{'nombre': 'jose', 'nc': '2129229292', 'edad': 18}\n",
            "{'nombre': 'jose', 'nc': '2129229292', 'edad': 19}\n"
          ]
        }
      ]
    },
    {
      "cell_type": "code",
      "metadata": {
        "colab": {
          "base_uri": "https://localhost:8080/"
        },
        "id": "0WA0qUF08TKZ",
        "outputId": "783d03d3-68b4-48e1-9226-dccd160f198b"
      },
      "source": [
        "cliente = { \"id\":\"CT2121\" , \"nombre\" : \"José Pedrosa Rosales\" , \"telefono\" : \"casa:554456565 cel=0445567767\" }\n",
        "\n",
        "print(cliente)\n",
        "cliente = { \"id\":\"CT2121\" ,\n",
        "            \"nombre\" : {\n",
        "                \"nombres\" : [\"José\", \"Eduardo\"],\n",
        "                \"paterno\" : \"Pedroza\",\n",
        "                \"materno\" : \"Rosales\"\n",
        "            } ,\n",
        "            \"telefonos\" : {\n",
        "                \"casa\" : \"55-6632-4234\",\n",
        "                \"trabajo\":\"55-443-3232\" ,\n",
        "                \"celular\":\"044-55-234234\"\n",
        "            } ,\n",
        "           \"productos\":{\n",
        "               \"ahorros\":{ \"numero_cuenta\":\"7788\" , \"ahorro\": 2500.5 },\n",
        "               \"tarjetas\":[\n",
        "                            {\"tipo\":\"debito\" , \"saldo\" : 10000.5  },\n",
        "                            {\"tipo\":\"credito preferente\" , \"limite\":250000.5},\n",
        "                            {\"tipo\":\"lite\" , \"limite\": 15000.5 }\n",
        "                ]\n",
        "           },\n",
        "           \"direccion\":{\n",
        "               \"calle\":\"Av. central\",\n",
        "               \"numero\" : 1245,\n",
        "               \"colonia\" :\"Impulsora\",\n",
        "               \"delegacion\" :\"neza\",\n",
        "               \"estado\" : {\n",
        "                            \"clave\" : 15,\n",
        "                           \"nombre_corto\":\"EdoMex\",\n",
        "                           \"nombre\": \"Estado de México\"\n",
        "                            }\n",
        "           }\n",
        "\n",
        "            }\n",
        "print( cliente[\"telefonos\"][\"casa\"] )\n",
        "print(cliente)\n",
        "print(cliente[\"productos\"][\"ahorros\"][\"ahorro\"])\n",
        "print(cliente[\"productos\"][\"tarjetas\"][2][\"limite\"])\n",
        "print(cliente[\"direccion\"][\"estado\"][\"nombre\"].upper())\n",
        "cliente[\"productos\"][\"ahorros\"][\"ahorro\"]-=1500.0\n",
        "print( cliente[\"productos\"])\n"
      ],
      "execution_count": null,
      "outputs": [
        {
          "output_type": "stream",
          "name": "stdout",
          "text": [
            "{'id': 'CT2121', 'nombre': 'José Pedrosa Rosales', 'telefono': 'casa:554456565 cel=0445567767'}\n",
            "55-6632-4234\n",
            "{'id': 'CT2121', 'nombre': {'nombres': ['José', 'Eduardo'], 'paterno': 'Pedroza', 'materno': 'Rosales'}, 'telefonos': {'casa': '55-6632-4234', 'trabajo': '55-443-3232', 'celular': '044-55-234234'}, 'productos': {'ahorros': {'numero_cuenta': '7788', 'ahorro': 2500.5}, 'tarjetas': [{'tipo': 'debito', 'saldo': 10000.5}, {'tipo': 'credito preferente', 'limite': 250000.5}, {'tipo': 'lite', 'limite': 15000.5}]}, 'direccion': {'calle': 'Av. central', 'numero': 1245, 'colonia': 'Impulsora', 'delegacion': 'neza', 'estado': {'clave': 15, 'nombre_corto': 'EdoMex', 'nombre': 'Estado de México'}}}\n",
            "2500.5\n",
            "15000.5\n",
            "ESTADO DE MÉXICO\n",
            "{'ahorros': {'numero_cuenta': '7788', 'ahorro': 1000.5}, 'tarjetas': [{'tipo': 'debito', 'saldo': 10000.5}, {'tipo': 'credito preferente', 'limite': 250000.5}, {'tipo': 'lite', 'limite': 15000.5}]}\n"
          ]
        }
      ]
    },
    {
      "cell_type": "markdown",
      "metadata": {
        "id": "Nvfge4OlNltn"
      },
      "source": [
        "# Estructura de control de programacion\n",
        "\n",
        "Se puede crear cualquier tipo de algoritmo empleado solamente 3 estructuras de control\n",
        "\n",
        "1. secuencia:     \n",
        "  - La representacion de la memoria de programa (Arquitectura Vonn Newman)\n",
        "\n",
        "2. Seleción:\n",
        "  - Es la estructura de control que decide se un bloque de programa se ejetuta. Tambien permite seleccionar ejecutar un bloque entre un conjumto de opciones.\n",
        "  En resumen tenemos: Seleccion simple, selecion con bifurcacion y seleccion multiple.\n",
        "\n",
        "3. Repeticion:      \n",
        "  - Este tipo de estructura nos permite automatizar la ejecucion repetitiva de codigo mientras ciertas condiciones cumpla, tenemos 3 variantes de esta estructura en todos los lenjuajes de programación:       \n",
        "  - Desde...hasta(estructura for)\n",
        "  - haz mientras (estructura while)\n",
        "  - haz y luego validaz mientras (estructura Do-while) "
      ]
    },
    {
      "cell_type": "markdown",
      "metadata": {
        "id": "RqOieNceSIsL"
      },
      "source": [
        "# seleccion simple\n",
        "\n",
        "- Documentar, o poner nota\n",
        "\n",
        "la estructura if\n",
        "\n",
        "if< CONDICION >\n",
        "\n",
        "  < cuerpo del IF >\n",
        "```\n",
        "  **NOTA** para establecer el cuerpo de una estructura de control en Python se usan los tabuladores a la izq.\n",
        "\n",
        "En otros lenguajes de programaciom como java, c y c++... se usan las llaves { }\n",
        "\n",
        "```\n",
        "int edad =0,\n",
        "printf(\"Dam tu edad\");\n",
        "scanf(\"si\", edad);\n",
        "if(edad >= 18){\n",
        "  print(\"ERES MAYOR DE EDAD\");\n",
        "}\n",
        "printf(\"Fin de programa\";"
      ]
    },
    {
      "cell_type": "code",
      "metadata": {
        "colab": {
          "base_uri": "https://localhost:8080/"
        },
        "id": "UWQmFHAQSaxf",
        "outputId": "4519f0e3-c465-41af-f9a6-6d52d805d7bd"
      },
      "source": [
        "edad= int( input(\"dame tu edad:\"))\n",
        "print(f\"tecleaste {edad} años\")\n",
        "if edad >= 18 :\n",
        "    print(\"ERES MAYOR DE EDAD\")\n",
        "    print(\"Algo\")\n",
        "print(\"Otra cosa\")\n",
        "print(\"Fin de programa\")"
      ],
      "execution_count": null,
      "outputs": [
        {
          "output_type": "stream",
          "name": "stdout",
          "text": [
            "dame tu edad:16\n",
            "tecleaste 16 años\n",
            "Otra cosa\n",
            "Fin de programa\n"
          ]
        }
      ]
    },
    {
      "cell_type": "code",
      "metadata": {
        "colab": {
          "base_uri": "https://localhost:8080/"
        },
        "id": "gx4RpjsaWfpu",
        "outputId": "fc42c3b1-afd2-46e4-e6ef-8a818dff105b"
      },
      "source": [
        "cal= float( input(\"dame tu calificacion:\"))\n",
        "if cal > 8:\n",
        "    print(\"aprobado\")\n",
        "print(\"Fin del programa\")\n",
        "\n",
        "\n",
        "\n"
      ],
      "execution_count": null,
      "outputs": [
        {
          "output_type": "stream",
          "name": "stdout",
          "text": [
            "dame tu calificacion:9\n",
            "aprobado\n",
            "Fin del programa\n"
          ]
        }
      ]
    },
    {
      "cell_type": "code",
      "metadata": {
        "colab": {
          "base_uri": "https://localhost:8080/"
        },
        "id": "G4SUzyOfYel_",
        "outputId": "faed3f9e-1fc9-462e-96ad-7c7d4dea10ed"
      },
      "source": [
        "SUE= float( input(\"ingresa tu sueldo:\"))\n",
        "AUM = 0\n",
        "MSUE = 0\n",
        "\n",
        "if SUE < 1000 :\n",
        "    AUM = SUE* 0.15\n",
        "    MSUE = SUE + AUM\n",
        "    print(MSUE)"
      ],
      "execution_count": null,
      "outputs": [
        {
          "output_type": "stream",
          "name": "stdout",
          "text": [
            "ingresa tu sueldo:875.50\n",
            "1006.825\n"
          ]
        }
      ]
    },
    {
      "cell_type": "markdown",
      "metadata": {
        "id": "SPWTUhVRGx65"
      },
      "source": [
        "# estructura de seleccion con diFURCACION( IF-ELSE)\n",
        "\n",
        "Esta estructura, selecciona una de dos opciones de ejecición, se ejecuta un bloque si la condicion se cumple\n",
        "\n",
        "```\n",
        "if<condicion>\n",
        "    <bloque de ejecucion>\n",
        "else:  \n",
        "    <bloque de ejecucion alterno>\n",
        "```\n",
        "\n"
      ]
    },
    {
      "cell_type": "code",
      "metadata": {
        "colab": {
          "base_uri": "https://localhost:8080/"
        },
        "id": "vLm9TJCIIEG2",
        "outputId": "4bb6402a-896b-4b9b-a624-7b5c0ca13e67"
      },
      "source": [
        "edad = int(input(\"dame tu edad:\"))\n",
        "print(f\"Tecleaste {edad} años\")\n",
        "if edad >= 18:\n",
        "    print(\"eres mayor de edad, ten tu cheve\")\n",
        "else:\n",
        "    print(\"Eres menor de edad, ten tú boing\")\n",
        "print(\"fin del programa\")"
      ],
      "execution_count": null,
      "outputs": [
        {
          "output_type": "stream",
          "name": "stdout",
          "text": [
            "dame tu edad:12\n",
            "Tecleaste 12 años\n",
            "Eres menor de edad, ten tú boing\n",
            "fin del programa\n"
          ]
        }
      ]
    },
    {
      "cell_type": "code",
      "metadata": {
        "colab": {
          "base_uri": "https://localhost:8080/"
        },
        "id": "KUJC7wC2JSi_",
        "outputId": "60f05059-4390-4a7a-a35b-ecd07e162b02"
      },
      "source": [
        "\n",
        "edad = int(input(\"dame tu edad:\"))\n",
        "dinero = float(input(\"Dame tu cantidad de dinero\"))\n",
        "print(f\"Tecleaste {edad} años\")\n",
        "print(f\"Tecleaste {dinero} pesos\")\n",
        "if edad >= 18 and dinero >= 36:\n",
        "    print(\"eres mayor de edad, ten tu cheve\")\n",
        "else:\n",
        "    print(\"Eres menor de edad, ten tú boing\")\n",
        "print(\"fin del programa\")"
      ],
      "execution_count": null,
      "outputs": [
        {
          "output_type": "stream",
          "name": "stdout",
          "text": [
            "dame tu edad:18\n",
            "Dame tu cantidad de dinero50\n",
            "Tecleaste 18 años\n",
            "Tecleaste 50.0 pesos\n",
            "eres mayor de edad, ten tu cheve\n",
            "fin del programa\n"
          ]
        }
      ]
    },
    {
      "cell_type": "code",
      "metadata": {
        "colab": {
          "base_uri": "https://localhost:8080/"
        },
        "id": "3KH2YSlZK0pe",
        "outputId": "c21a71c8-176b-4234-fd0c-47a76dacca69"
      },
      "source": [
        "edad = int(input(\"dame tu edad:\"))\n",
        "dinero = int(input(\"¿cuanto dinero tienes ?\"))\n",
        "if edad >=18:\n",
        "    if dinero >=35:\n",
        "        print(\"eres mayor de edad y tienes dinero, ten tu cheve\")\n",
        "    else:\n",
        "        print(\"no tienes suficiente dinero\")    \n",
        "else:\n",
        "    print(\"Eres menor de edad, ten tú boing\")\n",
        "print(\"fin del programa\")"
      ],
      "execution_count": null,
      "outputs": [
        {
          "output_type": "stream",
          "name": "stdout",
          "text": [
            "dame tu edad:65\n",
            "¿cuanto dinero tienes ?65\n",
            "eres mayor de edad y tienes dinero, ten tu cheve\n",
            "fin del programa\n"
          ]
        }
      ]
    },
    {
      "cell_type": "markdown",
      "metadata": {
        "id": "OHBcByncMy87"
      },
      "source": [
        "el codigo anterior se puede simplificar usando una palabra reservada especial que existe en algunos lenguajes de programacion:    \n",
        "elif"
      ]
    },
    {
      "cell_type": "code",
      "metadata": {
        "colab": {
          "base_uri": "https://localhost:8080/"
        },
        "id": "HoG9B_8bNWQX",
        "outputId": "52ee0120-9839-4326-913f-08bb72abc87a"
      },
      "source": [
        "edad = int(input(\"Dame tu edad: \"))\n",
        "dinero = float(input(\"Cuanto dinero tienes: \"))\n",
        "print(f\"Tecleaste {edad} años\")\n",
        "print(f\"Tecleaste {dinero} dinero\")\n",
        "if edad >= 18 :\n",
        "    if dinero >=36 :\n",
        "        print(\"Ten tu cheve\")\n",
        "    else:\n",
        "        print(\"tienes la edad pero no tienes dinero suficiente\")\n",
        "elif dinero >= 36 :\n",
        "    print(\"Tienes dinero suficiente pero no tienes la edad\")\n",
        "else:\n",
        "    print(\"No tienes la edad ni el dinero, ve a jugar roblox a tu casa\")\n",
        "\n"
      ],
      "execution_count": null,
      "outputs": [
        {
          "output_type": "stream",
          "name": "stdout",
          "text": [
            "Dame tu edad: 54\n",
            "Cuanto dinero tienes: 50\n",
            "Tecleaste 54 años\n",
            "Tecleaste 50.0 dinero\n",
            "Ten tu cheve\n"
          ]
        }
      ]
    },
    {
      "cell_type": "code",
      "metadata": {
        "colab": {
          "base_uri": "https://localhost:8080/"
        },
        "id": "CrOCfk9QO7tI",
        "outputId": "f6f56bd8-9f25-43e0-ab02-fbaaa29acc24"
      },
      "source": [
        "cal = float(input(\"Escribe tu calificacion:\"))\n",
        "if cal >=8 :\n",
        "    print(\"aprobado\")\n",
        "else:\n",
        "    print(\"reprobado\")"
      ],
      "execution_count": null,
      "outputs": [
        {
          "output_type": "stream",
          "name": "stdout",
          "text": [
            "Escribe tu calificacion:9\n",
            "aprobado\n"
          ]
        }
      ]
    },
    {
      "cell_type": "code",
      "metadata": {
        "colab": {
          "base_uri": "https://localhost:8080/"
        },
        "id": "MWivz8q-PcpG",
        "outputId": "afa0e688-b039-4f65-d099-8206cab377df"
      },
      "source": [
        "# ejemplo 2.4\n",
        "SUE = float(input(\"Escribe tu sueldo:\"))\n",
        "AUM = 0\n",
        "NSUE= 0\n",
        "\n",
        "if SUE < 1000 :\n",
        "    AUM = SUE* 0.15\n",
        "    NSUE = SUE + AUM \n",
        "    Print(NSUE)\n",
        "else:\n",
        "    AUM = SUE* 0.12\n",
        "    NSUE = SUE + AUM \n",
        "print(NSUE)\n"
      ],
      "execution_count": null,
      "outputs": [
        {
          "output_type": "stream",
          "name": "stdout",
          "text": [
            "Escribe tu sueldo:1000\n",
            "1120.0\n"
          ]
        }
      ]
    },
    {
      "cell_type": "markdown",
      "metadata": {
        "id": "SxX-kNyJSNiK"
      },
      "source": [
        "# ejercicio if-else\n",
        "### hacer un programa que solicite el dia de la semana rn unvalor numerico entero del 1 al 7 (avisarle al usuario si proporciono un valor fuera de su rango)"
      ]
    },
    {
      "cell_type": "code",
      "metadata": {
        "colab": {
          "base_uri": "https://localhost:8080/"
        },
        "id": "4m97E13eShMJ",
        "outputId": "8dd39711-6426-4c97-d9e4-e47fb4e233be"
      },
      "source": [
        "\n",
        "numero = int(input(\"Dame un valor del 1 al 7:\"))\n",
        "if numero == 1:\n",
        "    print(\"Hoy es lunes\")\n",
        "elif numero == 2:\n",
        "    print(\"Hoy es Martes\")\n",
        "elif numero == 3:\n",
        "    print(\"Hoy es Miercoles\")\n",
        "elif numero == 4:\n",
        "    print(\"Hoy es Jueves\")\n",
        "elif numero == 5:\n",
        "    print(\"Hoy es viernes\")\n",
        "elif numero == 6:\n",
        "    print(\"Hoy es viernes\")\n",
        "elif numero == 7:\n",
        "    print(\"Hoy es viernes\")\n",
        "else:\n",
        "    print(\"Debe ser un numero entre el 1 y el 7\")\n",
        "\n",
        "\n"
      ],
      "execution_count": null,
      "outputs": [
        {
          "output_type": "stream",
          "name": "stdout",
          "text": [
            "Dame un valor del 1 al 7:78\n",
            "Debe ser un numero entre el 1 y el 7\n"
          ]
        }
      ]
    },
    {
      "cell_type": "code",
      "metadata": {
        "colab": {
          "base_uri": "https://localhost:8080/"
        },
        "id": "0aRFWyIScJAI",
        "outputId": "a1a08528-99c0-49b7-c644-7e99937dcb82"
      },
      "source": [
        "dia=int(input(\"Dame el día de la semana del 1-7: \"))\n",
        "if dia is 1:\n",
        "    print(\"LUNES\")\n",
        "elif dia is 2:\n",
        "    print(\"MARTES\")\n",
        "elif dia is 3:\n",
        "    print(\"MIERCOLES\")\n",
        "elif dia is 4:\n",
        "    print(\"JUEVES\")\n",
        "elif dia is 5:\n",
        "    print(\"VIERNES\")\n",
        "elif dia is 6:\n",
        "    print(\"SÁBADO\")\n",
        "elif dia is 7:\n",
        "    print(\"DOMINGO\")\n",
        "else:\n",
        "    print(\"Debe ser un numero entre el 1 y el 7\")"
      ],
      "execution_count": null,
      "outputs": [
        {
          "output_type": "stream",
          "name": "stdout",
          "text": [
            "Dame el día de la semana del 1-7: 6\n",
            "SÁBADO\n"
          ]
        }
      ]
    },
    {
      "cell_type": "code",
      "metadata": {
        "colab": {
          "base_uri": "https://localhost:8080/"
        },
        "id": "a0TaYz3CVeCy",
        "outputId": "3b833f6b-39d5-4ce2-8a60-68972ebc037c"
      },
      "source": [
        "dia = int( input(\"Ingresa un numero entre 1 y 7:\"))\n",
        "print(f\"Capturaste el numero { dia }\")\n",
        " \n",
        "if dia >=1 and dia <= 7:\n",
        "    if dia == 1:\n",
        "        print(\"Lunes\")\n",
        "    else:\n",
        "        if dia == 2:\n",
        "            print(\"Martes\")\n",
        "        else:\n",
        "            if dia == 3:\n",
        "                print(\"Miércoles\")\n",
        "            else:\n",
        "                if dia == 4:\n",
        "                    print(\"Jueves\")\n",
        "                else:\n",
        "                    if dia == 5:\n",
        "                        print(\"Viernes\")\n",
        "                    else:\n",
        "                        if dia == 6:\n",
        "                            print(\"Sábado\")\n",
        "                        else:\n",
        "                            print(\"Domingo\")\n",
        " \n",
        "else:\n",
        "    print(\"Ese numero no esta dentro del rango solicitado\")"
      ],
      "execution_count": null,
      "outputs": [
        {
          "output_type": "stream",
          "name": "stdout",
          "text": [
            "Ingresa un numero entre 1 y 7:6\n",
            "Capturaste el numero 6\n",
            "Sábado\n"
          ]
        }
      ]
    },
    {
      "cell_type": "markdown",
      "metadata": {
        "id": "FaYrHUI2a-lE"
      },
      "source": [
        "- hacer un programa que pida dos numeros enteros y que imprima en pantalla lo siguiente:\n",
        " \n",
        "1. cual de ellos es el numero mayor\n",
        "2. cual de ellos es el numero menor\n",
        " o en su defecto\n",
        "Imprimir que los valores son iguales\n",
        " \n",
        "- Hacer un programa que solicite  3 numeros enteros diferentes \n",
        "entre sí  y que imprima cual de los 3 es el mayor.\n",
        "\n",
        "- Hacer un programa que solicite  3 numeros enteros diferentes \n",
        "entre sí  y que imprima cual de los 3 es el menor.\n",
        " \n",
        "- Hacer un programa que solicite 4 numeros enteros diferentes entre si\n",
        "e imprima a la salida cual de ellos es el menor y cual de ellos es el mayor.\n"
      ]
    },
    {
      "cell_type": "markdown",
      "metadata": {
        "id": "JLYrmIY4by_K"
      },
      "source": [
        "# seleción multiple (switch)\n",
        "En python no existe la estructura de seleccion switch, en su lugar se emplea la palabra reservada.\n",
        "\n",
        "# elfi<condicion>\n",
        "\n",
        "por ejemplo en el lenguaje c y java seria de la forma:    \n",
        "```\n",
        "\n",
        "float SUE 0.O;\n",
        "int CATE = 0;\n",
        "\n",
        "printf(\"introduce la categoria:\");\n",
        "scanf(\"%i\", &CATE);\n",
        "printf(\"introduce EL sueldo:\");\n",
        "scanf(\"%i\", &CSUE);\n",
        "switch( CATE ){\n",
        "    case 1:      \n",
        "        SUE=SUE * 1.15;\n",
        "        break;\n",
        "    case 2:      \n",
        "        SUE=SUE * 1.15;\n",
        "        break;\n",
        "    case 3:      \n",
        "        SUE=SUE * 1.15;\n",
        "        break;\n",
        "    case 4:      \n",
        "        SUE=SUE * 1.15;\n",
        "        break;\n",
        "\n",
        "```"
      ]
    },
    {
      "cell_type": "code",
      "metadata": {
        "colab": {
          "base_uri": "https://localhost:8080/"
        },
        "id": "maFZ8S6Yc5Fc",
        "outputId": "bcd3cf8c-41eb-42f1-f05e-b4ede723739d"
      },
      "source": [
        "# ejempo 2.7\n",
        "\n",
        "NUM = int(input(\"dame un numero entre 1 y 3:\"))\n",
        "V = float(input(\"Dame un valor float:\"))\n",
        "VAL = 0\n",
        "if NUM == 1:\n",
        "    VAL = 100 * V\n",
        "elif NUM == 2:\n",
        "    VAL = 100 ** V\n",
        "elif NUM == 3 :\n",
        "    VAL =100/V\n",
        "else:\n",
        "    VAL = 0\n",
        " \n",
        "print(VAL)\n",
        "\n",
        "# apartir de la pag 65\n",
        "\n"
      ],
      "execution_count": null,
      "outputs": [
        {
          "output_type": "stream",
          "name": "stdout",
          "text": [
            "dame un numero entre 1 y 3:1\n",
            "Dame un valor float:5\n",
            "500.0\n"
          ]
        }
      ]
    },
    {
      "cell_type": "code",
      "metadata": {
        "colab": {
          "base_uri": "https://localhost:8080/"
        },
        "id": "tLSQmnDa12Wd",
        "outputId": "5e354696-504b-4e4f-fbb6-a8f849c36593"
      },
      "source": [
        "#ejemplo 2.8\n",
        "\n",
        "CATE = int(input(\"Introduce la categoria\"))\n",
        "SUE = float(input(\"Introduce el sueldo\"))\n",
        "\n",
        "if CATE == 1:\n",
        "    SUE == SUE * 1.15;\n",
        "elif CATE == 2:\n",
        "    SUE == SUE * 1.10;\n",
        "elif CATE == 3:\n",
        "    SUE == SUE * 1.08;\n",
        "elif CATE == 4:\n",
        "    SUE == SUE * 1.07;\n",
        "\n",
        "print(f\"categoria:{CATE}, sueldo= {SUE}\")"
      ],
      "execution_count": null,
      "outputs": [
        {
          "output_type": "stream",
          "name": "stdout",
          "text": [
            "Introduce la categoria3\n",
            "Introduce el sueldo3800\n",
            "categoria:3, sueldo= 3800.0\n"
          ]
        }
      ]
    },
    {
      "cell_type": "code",
      "metadata": {
        "colab": {
          "base_uri": "https://localhost:8080/"
        },
        "id": "sDUu8_qW6Xd5",
        "outputId": "dc81251e-4f96-4d00-d195-e8b26545d99a"
      },
      "source": [
        "A=int(input(\"Ingresa el primer numero entero: \"))\n",
        "B=int(input(\"Ingresa el segundo numero entero diferente: \"))\n",
        "C=int(input(\"Ingresa el tercer numero entero diferente: \"))\n",
        " \n",
        "if A==B==C or A==B or A==C or B==C:\n",
        "    print(\"ALGUNOS NÚMEROS SON IGUALES, ingresa 3 NUMEROS DIFERENTES\")\n",
        "if A>B:\n",
        "    if A>C: \n",
        "        if B>C:\n",
        "            print(\"ORDEN MAYOR A MENOR : \",A, B, C)\n",
        "        else:\n",
        "            print(\"ORDEN MAYOR A MENOR : \",A, C, B)\n",
        "    else: print(\"ORDEN MAYOR A MENOR : \",C, A, B)\n",
        "else:\n",
        "    if B>C: \n",
        "        if A>C:\n",
        "            print(\"ORDEN MAYOR A MENOR : \",B, A, C)\n",
        "        else:\n",
        "            print(\"ORDEN MAYOR A MENOR : \",B, C, A)\n",
        "    else: print(\"ORDEN MAYOR A MENOR : \",C, B, A)\n",
        " \n",
        "print(\"*FIN DEL PROGRAMA*\")\n"
      ],
      "execution_count": null,
      "outputs": [
        {
          "output_type": "stream",
          "name": "stdout",
          "text": [
            "Dame un primer numero entero: 7\n",
            "Dame un segundo numero entero diferente: 1\n",
            "Dame un tercer numero entero diferente: 89\n",
            "ORDEN MAYOR A MENOR :  89 7 1\n",
            "--FIN DEL PROGRAMA--\n"
          ]
        }
      ]
    },
    {
      "cell_type": "code",
      "metadata": {
        "colab": {
          "base_uri": "https://localhost:8080/"
        },
        "id": "ed50nqC9Cida",
        "outputId": "915b3195-2e57-4d8a-99c4-e6c7186d47b4"
      },
      "source": [
        "# problema 2.14\n",
        "TIPOENF= int(input(\"Introduce el tipo de enfermedad:\"))\n",
        "EDAD= int(input(\"Introduce la edad:\"))\n",
        "DIAS= int(input(\"Introduce el numero de dias\"))\n",
        "COSTO= 0.0\n",
        "\n",
        "if TIPOENF == 1:\n",
        "    COSTO = DIAS * 25.0\n",
        "elif TIPOENF == 2:\n",
        "    COSTO == DIAS * 16.0\n",
        "elif TIPOENF == 3:\n",
        "    COSTO == DIAS * 20.0\n",
        "elif TIPOENF == 4:\n",
        "    COSTO == DIAS * 32.0\n",
        "\n",
        "if EDAD >= 14 and EDAD <= 22:\n",
        "    COSTO = COSTO * 1.10\n",
        "print(\"costo total =$\",COSTO)"
      ],
      "execution_count": null,
      "outputs": [
        {
          "output_type": "stream",
          "name": "stdout",
          "text": [
            "Introduce el tipo de enfermedad:3\n",
            "Introduce la edad:35\n",
            "Introduce el numero de dias4\n",
            "costo total =$ 0.0\n"
          ]
        }
      ]
    }
  ]
}