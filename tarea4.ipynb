{
  "nbformat": 4,
  "nbformat_minor": 0,
  "metadata": {
    "colab": {
      "name": "Untitled0.ipynb",
      "provenance": [],
      "authorship_tag": "ABX9TyMD1V1IP/79VqFf29KenC6x",
      "include_colab_link": true
    },
    "kernelspec": {
      "name": "python3",
      "display_name": "Python 3"
    },
    "language_info": {
      "name": "python"
    }
  },
  "cells": [
    {
      "cell_type": "markdown",
      "metadata": {
        "id": "view-in-github",
        "colab_type": "text"
      },
      "source": [
        "<a href=\"https://colab.research.google.com/github/AlexisAO861/ComputadorasyProgramacion-G1157/blob/main/tarea4.ipynb\" target=\"_parent\"><img src=\"https://colab.research.google.com/assets/colab-badge.svg\" alt=\"Open In Colab\"/></a>"
      ]
    },
    {
      "cell_type": "code",
      "metadata": {
        "colab": {
          "base_uri": "https://localhost:8080/"
        },
        "id": "sAo7KyrvkQgM",
        "outputId": "eb2aabf7-a42c-4195-fa51-4f07e749f533"
      },
      "source": [
        "print(\"\\n\\t   A     L    EEEEE X   X IIIII SSSSS\\n\\t  A A    L    E      X X    I   S\\n\\t A   A   L    EEE     X     I    SS\\n\\t AAAAA   L    E      X X    I      S\\n\\t A   A   LLLL EEEEE X   X IIIII SSSSS\")\n"
      ],
      "execution_count": 20,
      "outputs": [
        {
          "output_type": "stream",
          "name": "stdout",
          "text": [
            "\n",
            "\t   A     L    EEEEE X   X IIIII SSSSS\n",
            "\t  A A    L    E      X X    I   S\n",
            "\t A   A   L    EEE     X     I    SS\n",
            "\t AAAAA   L    E      X X    I      S\n",
            "\t A   A   LLLL EEEEE X   X IIIII SSSSS\n"
          ]
        }
      ]
    }
  ]
}