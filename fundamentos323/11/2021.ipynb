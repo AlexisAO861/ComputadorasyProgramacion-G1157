{
  "nbformat": 4,
  "nbformat_minor": 0,
  "metadata": {
    "colab": {
      "name": "fundamentos3.ipynb",
      "provenance": [],
      "authorship_tag": "ABX9TyOp5dRjDDWtZiiskzvvAxH7",
      "include_colab_link": true
    },
    "kernelspec": {
      "name": "python3",
      "display_name": "Python 3"
    },
    "language_info": {
      "name": "python"
    }
  },
  "cells": [
    {
      "cell_type": "markdown",
      "metadata": {
        "id": "view-in-github",
        "colab_type": "text"
      },
      "source": [
        "<a href=\"https://colab.research.google.com/github/AlexisAO861/ComputadorasyProgramacion-G1157/blob/main/fundamentos323/11/2021.ipynb\" target=\"_parent\"><img src=\"https://colab.research.google.com/assets/colab-badge.svg\" alt=\"Open In Colab\"/></a>"
      ]
    },
    {
      "cell_type": "markdown",
      "metadata": {
        "id": "QsM1dIkMFt5E"
      },
      "source": [
        "Repeticion:\n",
        "\n",
        "Este tipo de estructura nos permite automatizar la ejecucion repetitiva de codigo mientras ciertas condiciones cumpla, tenemos 3 variantes de esta estructura en todos los lenjuajes de programación:\n",
        "\n",
        "- Desde...hasta(estructura for)\n",
        "- haz mientras (estructura while)\n",
        "- haz y luego validaz mientras (estructura Do-while)\n",
        "# FOR CON python\n",
        "\n",
        "```\n",
        "for j in range(10):     \n",
        "    print(f\"hola{ j }\")\n",
        "```\n",
        "\n",
        "# FOR CON leng c y/o java\n",
        "```\n",
        "for( int j=0 ; j<10 ; j=j+1 ){\n",
        "    printf(\"hola %i \\n\", j );\n",
        "```\n",
        "\n",
        "En todos los lenguajes de programacion existe un tipo especial de for, conocido como for-each\n",
        "\n",
        "# for-each en python\n",
        "```\n",
        "for color in colores:    \n",
        "    print(f\"Este es el color {color}\")\n",
        "```"
      ]
    },
    {
      "cell_type": "code",
      "metadata": {
        "colab": {
          "base_uri": "https://localhost:8080/"
        },
        "id": "xn8mYU_nFzZV",
        "outputId": "b8d184a7-3c5f-4646-8438-3832d7b3fe32"
      },
      "source": [
        "# funcion range( )\n",
        "# range(<INICIO>,<STOP>,<INCREMENTO>)\n",
        "x = range (0,10,2)\n",
        "print(x)\n",
        "\n",
        "for j in range(10):# range(o,10)-->0,1,2,3,4,5,6,7,8,9\n",
        "    print(f\"hola{j}\")\n",
        "\n",
        "print(\"-,-,-,-,-,-,-,\")# range (0,10,2)--->0,2,4,6,8\n",
        "for j in range(0,10,2):\n",
        "    print(f\"hola {j}\")\n",
        "\n",
        "frutas = [\"Uva\",\"aguacate\",\"pera\",\"manzana\",\"sandia\"]\n",
        "print(frutas[0])\n",
        "print(frutas[1])\n",
        "print(frutas[2])\n",
        "print(frutas[3])\n",
        "print(frutas[4])\n",
        "\n",
        "print(\"---frutas---\")\n",
        "for index in range(5):\n",
        "    print(frutas[index])\n",
        "print(\"--------------------------------------\")\n",
        "\n",
        "for i in range(5):\n",
        "    print(\"+++++\")"
      ],
      "execution_count": 9,
      "outputs": [
        {
          "output_type": "stream",
          "name": "stdout",
          "text": [
            "range(0, 10, 2)\n",
            "hola0\n",
            "hola1\n",
            "hola2\n",
            "hola3\n",
            "hola4\n",
            "hola5\n",
            "hola6\n",
            "hola7\n",
            "hola8\n",
            "hola9\n",
            "-,-,-,-,-,-,-,\n",
            "hola 0\n",
            "hola 2\n",
            "hola 4\n",
            "hola 6\n",
            "hola 8\n",
            "Uva\n",
            "aguacate\n",
            "pera\n",
            "manzana\n",
            "sandia\n",
            "---frutas---\n",
            "Uva\n",
            "aguacate\n",
            "pera\n",
            "manzana\n",
            "sandia\n",
            "--------------------------------------\n",
            "+++++\n",
            "+++++\n",
            "+++++\n",
            "+++++\n",
            "+++++\n"
          ]
        }
      ]
    }
  ]
}