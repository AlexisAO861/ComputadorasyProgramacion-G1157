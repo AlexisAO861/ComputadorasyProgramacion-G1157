{
  "nbformat": 4,
  "nbformat_minor": 0,
  "metadata": {
    "colab": {
      "name": "Tarea7.ipynb",
      "provenance": [],
      "authorship_tag": "ABX9TyNwBic2hMhG/aJ2Fx4jVG/I",
      "include_colab_link": true
    },
    "kernelspec": {
      "name": "python3",
      "display_name": "Python 3"
    },
    "language_info": {
      "name": "python"
    }
  },
  "cells": [
    {
      "cell_type": "markdown",
      "metadata": {
        "id": "view-in-github",
        "colab_type": "text"
      },
      "source": [
        "<a href=\"https://colab.research.google.com/github/AlexisAO861/ComputadorasyProgramacion-G1157/blob/main/Tarea7.ipynb\" target=\"_parent\"><img src=\"https://colab.research.google.com/assets/colab-badge.svg\" alt=\"Open In Colab\"/></a>"
      ]
    },
    {
      "cell_type": "code",
      "metadata": {
        "id": "TTr6zA_o9NxN",
        "colab": {
          "base_uri": "https://localhost:8080/"
        },
        "outputId": "6c3b9e56-49e9-4c43-f68a-1a9cf88ca814"
      },
      "source": [
        "#3.1\n",
        "SUMPAR = 0\n",
        "SUMIMP = 0\n",
        "CUEPAR = 0\n",
        "num=0\n",
        "i = 1\n",
        "while i<=270:\n",
        "    num = i\n",
        "    if num>0:\n",
        "        if num%2!=0:\n",
        "            SUMPAR=SUMPAR+CUEPAR\n",
        "            CUEPAR=CUEPAR + 1\n",
        "        else: SUMIMP =SUMIMP+ num\n",
        "    i=i+1\n",
        "PROPAR=SUMPAR / CUEPAR\n",
        "print(f\"promedio de los pares:{PROPAR} y la suma de los impares:{SUMIMP}\")\n"
      ],
      "execution_count": 23,
      "outputs": [
        {
          "output_type": "stream",
          "name": "stdout",
          "text": [
            "promedio de los pares:67.0 y la suma de los impares:18360\n"
          ]
        }
      ]
    },
    {
      "cell_type": "code",
      "metadata": {
        "id": "14uoNX529f3K"
      },
      "source": [
        "#3.2\n",
        "BAND= 'T'\n",
        "i=2\n",
        "SUMSER=0\n",
        "while i<=1800:\n",
        "    SUMSER=+i\n",
        "    print(i)\n",
        "    if BAND=='T':\n",
        "        BAND= 'F'\n",
        "        i=i+3\n",
        "    else:\n",
        "        BAND ='T'\n",
        "        i=i+2\n",
        "print(f\"La suma es:{SUMSER}\")"
      ],
      "execution_count": null,
      "outputs": []
    },
    {
      "cell_type": "code",
      "metadata": {
        "id": "lMtujEHu9hN9",
        "colab": {
          "base_uri": "https://localhost:8080/"
        },
        "outputId": "ccf17857-b829-4a28-f211-c839bfd3c2b8"
      },
      "source": [
        "#3.3\n",
        "serie=0\n",
        "n=int(input(\"Dame un numero entero:\"))\n",
        "BAND = 'T'\n",
        "i = 1\n",
        "while i <= n:\n",
        "    if BAND == 'T':\n",
        "        serie = serie+(1/i)\n",
        "        BAND = 'F'\n",
        "    else:\n",
        "        serie = serie-(1/i)\n",
        "        BAND = 'T'\n",
        "    i=i+1\n",
        "print(serie)\n"
      ],
      "execution_count": 24,
      "outputs": [
        {
          "output_type": "stream",
          "name": "stdout",
          "text": [
            "Dame un numero entero:9\n",
            "0.7456349206349207\n"
          ]
        }
      ]
    },
    {
      "cell_type": "code",
      "metadata": {
        "id": "25KRVdeE9kWo",
        "colab": {
          "base_uri": "https://localhost:8080/"
        },
        "outputId": "d9160adc-bcb3-4337-dc71-59b26d475c14"
      },
      "source": [
        "#3.4\n",
        "NOM = 0\n",
        "SUE = [855,760.32,1100.20,614,2600,817.50,1280.30,687,-1]\n",
        "i=0\n",
        "while SUE[i] > -1:\n",
        "    if SUE[i] < 1000:\n",
        "        NSUE = round(SUE[i]*1.15,2)\n",
        "    else:\n",
        "        NSUE = round(SUE[i]*1.12,2)\n",
        "    NOM = round(NOM+NSUE,2)\n",
        "    i=i+1\n",
        "    print(\"el nuevo sueldo del trabajador es:\",NSUE)\n",
        "print(\"la nomina es:\",NOM)\n"
      ],
      "execution_count": 34,
      "outputs": [
        {
          "output_type": "stream",
          "name": "stdout",
          "text": [
            "el nuevo sueldo del trabajador es: 983.25\n",
            "el nuevo sueldo del trabajador es: 874.37\n",
            "el nuevo sueldo del trabajador es: 1232.22\n",
            "el nuevo sueldo del trabajador es: 706.1\n",
            "el nuevo sueldo del trabajador es: 2912.0\n",
            "el nuevo sueldo del trabajador es: 940.12\n",
            "el nuevo sueldo del trabajador es: 1433.94\n",
            "el nuevo sueldo del trabajador es: 790.05\n",
            "la nomina es: 9872.05\n"
          ]
        }
      ]
    }
  ]
}