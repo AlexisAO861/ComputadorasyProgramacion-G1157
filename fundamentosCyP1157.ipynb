{
  "nbformat": 4,
  "nbformat_minor": 0,
  "metadata": {
    "colab": {
      "name": "fundamentosCyP1157.ipynb",
      "provenance": [],
      "authorship_tag": "ABX9TyOeJBRVf44CPgzL3KF9b82P",
      "include_colab_link": true
    },
    "kernelspec": {
      "name": "python3",
      "display_name": "Python 3"
    },
    "language_info": {
      "name": "python"
    }
  },
  "cells": [
    {
      "cell_type": "markdown",
      "metadata": {
        "id": "view-in-github",
        "colab_type": "text"
      },
      "source": [
        "<a href=\"https://colab.research.google.com/github/AlexisAO861/ComputadorasyProgramacion-G1157/blob/main/fundamentosCyP1157.ipynb\" target=\"_parent\"><img src=\"https://colab.research.google.com/assets/colab-badge.svg\" alt=\"Open In Colab\"/></a>"
      ]
    },
    {
      "cell_type": "code",
      "metadata": {
        "colab": {
          "base_uri": "https://localhost:8080/"
        },
        "id": "6fC2RF9QV_Q5",
        "outputId": "2a81f7a1-1534-4830-beab-53c7a74b3353"
      },
      "source": [
        "nombre= \"alex\" # Tipo de dato string (cadena de caracteres)\n",
        "\n",
        "print( nombre )\n",
        "\n",
        "\n",
        "\n"
      ],
      "execution_count": 5,
      "outputs": [
        {
          "output_type": "stream",
          "name": "stdout",
          "text": [
            "alex\n"
          ]
        }
      ]
    },
    {
      "cell_type": "markdown",
      "metadata": {
        "id": "eRlonwTxZBub"
      },
      "source": [
        "# Tipo de dato en python\n",
        "\n",
        "### Tipos simples \n",
        "- str --->  string cadena de caracteres.\n",
        "- int ---> Numeros enteros\n",
        "- float ---> numeros con notacion de punto flotante \n",
        "- complex --->Numeros completos\n",
        "- bool ---> Boleano (true o fals)\n",
        "- Byte ---> 8 bits\n",
        "\n",
        "# tipos de datos estructurados ( compuestos )\n",
        "- list ---> Lista (Arreglos en otros leng)\n",
        "- dict ----> diccionarios \n",
        "- set y frozenset ---> conjuntos \n",
        "- tuple ---> Listas de mutaciones "
      ]
    },
    {
      "cell_type": "code",
      "metadata": {
        "colab": {
          "base_uri": "https://localhost:8080/"
        },
        "id": "H8boXSvAaacz",
        "outputId": "d3dfb8eb-0619-40c2-d6eb-35e112c0b85e"
      },
      "source": [
        "   import sys\n",
        "\n",
        "   edad = 19\n",
        "   print(  \"tu edad es:\", edad) # al final de una linea de codigo \n",
        "   # este es un comentario de linea simple\n",
        "\n",
        "   \"\"\"\n",
        "  comentario de multiple linea \n",
        "  En lenguaje c++\n",
        "   \"\"\"\n",
        "   # tipos de datos numerico int y float   \n",
        "\n",
        "   print (  sys.getsizeof(edad) )\n",
        "# el tipo de dato INT utiliza diferente cantidad de bits segun el\n",
        "# leg de prog. por ejemplo en c utiliza 16 bits.\n",
        "  \n",
        "   edad = edad + 1 \n",
        "   print( edad)\n",
        "\n",
        "   estatura = 1.56\n",
        "   print( estatura )\n",
        "   print( sys. getsizeof(estatura))\n",
        "   estatura = estatura + 0.1\n",
        "   print( estatura )\n",
        "   print( round (estatura,2 ) )\n",
        "\n",
        "   edad += 1    # edad = edad +1\n",
        "   print(  \"tu edad es:\", edad)\n",
        "\n",
        "   edad -= 1    # edad = edad -1\n",
        "   print(  \"tu edad es:\", edad)\n",
        "\n",
        "   edad /= 2 \n",
        "   print( \"La mitad de tu edad es:\",edad )\n",
        "\n",
        "\n",
        "\n",
        "   numero = edad / 2.0\n",
        "   print( numero )\n",
        "\n",
        "   numero *= 3  # multiplicacion\n",
        "   print( numero )\n",
        "\n",
        "   numero = 5.0\n",
        "   numero **= 3 # sacar potencia \n",
        "   print( numero )\n",
        "\n",
        "   # operador modulo\n",
        "   numero = 21\n",
        "   print( numero / 2 )\n",
        "   print( numero // 2 )\n",
        "\n",
        "   # el operador da como resultado el residuo de una divison entera\n",
        "\n",
        "   print( numero % 2 )\n",
        "\n",
        "  # operador modulo\n",
        "   numero = 21\n",
        "   print( numero / 2 )\n",
        "   print( numero // 2 )\n",
        "\n",
        "   # el operador da como resultado el residuo de una divison entera  <>\"\n",
        "   print( numero % 2 )\n",
        "\n",
        "   numero = 24\n",
        "   print( \"Residuo de 24 / 5:\"  , numero % 5 )\n",
        "\n",
        "   #operadores relacionales logicos \n",
        "   print( numero % 2 == 0 )\n",
        "\n",
        "   # diferencia\n",
        "   print(\" 24 es diferente de 23=\" , numero != 23 )\n",
        "   print(\" 24 es mayor que 23=\" , numero > 23 )\n",
        "   print(\" 24 es menor que 23=\" , numero < 23 )\n",
        "\n",
        "   print( \" 24 es mayor o igual que 24\" , numero >= 24 )\n",
        "   print( \" 24 es menor o igual que 23\" , numero >= 23 )\n",
        "   \n",
        "\n",
        "   print(\" El tipo de dato de la var numero es:\", type( numero))\n",
        "   print(\" El tipo de dato de la var numero / es:\", type(numero))\n",
        "\n"
      ],
      "execution_count": 33,
      "outputs": [
        {
          "output_type": "stream",
          "name": "stdout",
          "text": [
            "tu edad es: 19\n",
            "28\n",
            "20\n",
            "1.56\n",
            "24\n",
            "1.6600000000000001\n",
            "1.66\n",
            "tu edad es: 21\n",
            "tu edad es: 20\n",
            "La mitad de tu edad es: 10.0\n",
            "5.0\n",
            "15.0\n",
            "125.0\n",
            "10.5\n",
            "10\n",
            "1\n",
            "10.5\n",
            "10\n",
            "1\n",
            "Residuo de 24 / 5: 4\n",
            "True\n",
            " 24 es diferente de 23= True\n",
            " 24 es mayor que 23= True\n",
            " 24 es menor que 23= False\n",
            " 24 es mayor o igual que 24 True\n",
            " 24 es menor o igual que 23 True\n",
            " El tipo de dato de la var numero es: <class 'int'>\n",
            " El tipo de dato de la var numero / es: <class 'int'>\n"
          ]
        }
      ]
    },
    {
      "cell_type": "markdown",
      "metadata": {
        "id": "7u1Y6tNMppgt"
      },
      "source": [
        "#Tipo de dato (str) en Python\n",
        "- se maneja como un arreglo ( tipo de dato compuesto)\n",
        "- se puede acceder a los elementos de el string por medio del indice del caracter.\n",
        "- mutable.\n",
        "- tiene metodos utiles (potentes)\n",
        "- slicing."
      ]
    },
    {
      "cell_type": "code",
      "metadata": {
        "colab": {
          "base_uri": "https://localhost:8080/"
        },
        "id": "ovaMJCu7qcPX",
        "outputId": "aae41a2b-7126-4ba0-fd0b-d2c108f2b007"
      },
      "source": [
        "nombre = 'alex'\n",
        "carrera = \"Ingenieria en computacion\"\n",
        "frase= \"\"\" El conocimiento\n",
        "me persigue,....\n",
        "pero\n",
        "yo soy mas rapido\n",
        "\"\"\"\n",
        "print( nombre)\n",
        "print( carrera )\n",
        "print( frase )\n",
        "\n",
        "#La funsion tripe de pyton te devuelve el tipo de dato de una variable (o e)\n",
        "print( type(nombre))\n",
        "\n",
        "paterno = str ( \"alex\" )\n",
        "print(paterno)\n"
      ],
      "execution_count": 24,
      "outputs": [
        {
          "output_type": "stream",
          "name": "stdout",
          "text": [
            "alex\n",
            "Ingenieria en computacion\n",
            " El conocimiento\n",
            "me persigue,....\n",
            "pero\n",
            "yo soy mas rapido\n",
            "\n",
            "<class 'str'>\n",
            "alex\n"
          ]
        }
      ]
    }
  ]
}