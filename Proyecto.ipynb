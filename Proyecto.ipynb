{
  "nbformat": 4,
  "nbformat_minor": 0,
  "metadata": {
    "colab": {
      "name": "Untitled0.ipynb",
      "provenance": [],
      "authorship_tag": "ABX9TyOrC481mkdpxMZBNispZViv",
      "include_colab_link": true
    },
    "kernelspec": {
      "name": "python3",
      "display_name": "Python 3"
    },
    "language_info": {
      "name": "python"
    }
  },
  "cells": [
    {
      "cell_type": "markdown",
      "metadata": {
        "id": "view-in-github",
        "colab_type": "text"
      },
      "source": [
        "<a href=\"https://colab.research.google.com/github/AlexisAO861/ComputadorasyProgramacion-G1157/blob/main/Proyecto.ipynb\" target=\"_parent\"><img src=\"https://colab.research.google.com/assets/colab-badge.svg\" alt=\"Open In Colab\"/></a>"
      ]
    },
    {
      "cell_type": "code",
      "execution_count": 16,
      "metadata": {
        "id": "6Tojph5wjGtN"
      },
      "outputs": [],
      "source": [
        "from PIL import Image\n",
        "import PIL\n",
        "\n",
        "image = Image.open(r'/content/mariposa-monarca.jpg')\n",
        "imageConBordes = Image.open(r'/content/mariposa-monarca.jpg')\n",
        "\n",
        "factorLuz = 2\n",
        "\n",
        "width = image.size[0]-1\n",
        "height = image.size[1]-1\n",
        "for i in range(0,width):#leer todos los pixeles\n",
        "    for j in range(0,height):\n",
        "        aqui = imageConBordes.getpixel((i,j))\n",
        "        aquix=i\n",
        "        aquiy=j\n",
        "        abajo = image.getpixel((i,j+1))\n",
        "        derecha=image.getpixel((i+1,j))\n",
        "\n",
        "        aquiLuz=((aqui[0]+aqui[1]+aqui[2])/3)\n",
        "        abajoLuz=(abajo[0]+abajo[1]+abajo[2])/3\n",
        "        derechaLuz=(derecha[0]+derecha[1]+derecha[2])/3\n",
        "\n",
        "        restaX=abs(aquiLuz-derechaLuz);\n",
        "        restaY=abs(aquiLuz-abajoLuz);\n",
        "        color=int(aquiLuz-1);\n",
        "\n",
        "        if((restaX+restaY)<1):\n",
        "            image.putpixel((aquix,aquiy),(0,0,0))\n",
        "        if((restaX+restaY)>=1):\n",
        "            image.putpixel((aquix,aquiy),(color,color,color))\n",
        "\n",
        "image = image.save(\"/content/mariposa-monarca.jpg\")"
      ]
    }
  ]
}