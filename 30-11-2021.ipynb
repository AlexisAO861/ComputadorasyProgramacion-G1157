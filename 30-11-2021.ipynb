{
  "nbformat": 4,
  "nbformat_minor": 0,
  "metadata": {
    "colab": {
      "name": "fundamentos3.ipynb",
      "provenance": [],
      "authorship_tag": "ABX9TyPe9EHrJzyTzpTrQocwT7gE",
      "include_colab_link": true
    },
    "kernelspec": {
      "name": "python3",
      "display_name": "Python 3"
    },
    "language_info": {
      "name": "python"
    }
  },
  "cells": [
    {
      "cell_type": "markdown",
      "metadata": {
        "id": "view-in-github",
        "colab_type": "text"
      },
      "source": [
        "<a href=\"https://colab.research.google.com/github/AlexisAO861/ComputadorasyProgramacion-G1157/blob/main/30-11-2021.ipynb\" target=\"_parent\"><img src=\"https://colab.research.google.com/assets/colab-badge.svg\" alt=\"Open In Colab\"/></a>"
      ]
    },
    {
      "cell_type": "markdown",
      "metadata": {
        "id": "QsM1dIkMFt5E"
      },
      "source": [
        "Repeticion:\n",
        "\n",
        "Este tipo de estructura nos permite automatizar la ejecucion repetitiva de codigo mientras ciertas condiciones cumpla, tenemos 3 variantes de esta estructura en todos los lenjuajes de programación:\n",
        "\n",
        "- Desde...hasta(estructura for)\n",
        "- haz mientras (estructura while)\n",
        "- haz y luego validaz mientras (estructura Do-while)\n",
        "# FOR CON python\n",
        "\n",
        "```\n",
        "for j in range(10):     \n",
        "    print(f\"hola{ j }\")\n",
        "```\n",
        "\n",
        "# FOR CON leng c y/o java\n",
        "```\n",
        "for( int j=0 ; j<10 ; j=j+1 ){\n",
        "    printf(\"hola %i \\n\", j );\n",
        "```\n",
        "\n",
        "En todos los lenguajes de programacion existe un tipo especial de for, conocido como for-each\n",
        "\n",
        "# for-each en python\n",
        "```\n",
        "for color in colores:    \n",
        "    print(f\"Este es el color {color}\")\n",
        "```"
      ]
    },
    {
      "cell_type": "code",
      "metadata": {
        "colab": {
          "base_uri": "https://localhost:8080/"
        },
        "id": "xn8mYU_nFzZV",
        "outputId": "b8d184a7-3c5f-4646-8438-3832d7b3fe32"
      },
      "source": [
        "# funcion range( )\n",
        "# range(<INICIO>,<STOP>,<INCREMENTO>)\n",
        "x = range (0,10,2)\n",
        "print(x)\n",
        "\n",
        "for j in range(10):# range(o,10)-->0,1,2,3,4,5,6,7,8,9\n",
        "    print(f\"hola{j}\")\n",
        "\n",
        "print(\"-,-,-,-,-,-,-,\")# range (0,10,2)--->0,2,4,6,8\n",
        "for j in range(0,10,2):\n",
        "    print(f\"hola {j}\")\n",
        "\n",
        "frutas = [\"Uva\",\"aguacate\",\"pera\",\"manzana\",\"sandia\"]\n",
        "print(frutas[0])\n",
        "print(frutas[1])\n",
        "print(frutas[2])\n",
        "print(frutas[3])\n",
        "print(frutas[4])\n",
        "\n",
        "print(\"---frutas---\")\n",
        "for index in range(5):\n",
        "    print(frutas[index])\n",
        "print(\"--------------------------------------\")\n",
        "\n",
        "for i in range(5):\n",
        "    print(\"+++++\")"
      ],
      "execution_count": null,
      "outputs": [
        {
          "output_type": "stream",
          "name": "stdout",
          "text": [
            "range(0, 10, 2)\n",
            "hola0\n",
            "hola1\n",
            "hola2\n",
            "hola3\n",
            "hola4\n",
            "hola5\n",
            "hola6\n",
            "hola7\n",
            "hola8\n",
            "hola9\n",
            "-,-,-,-,-,-,-,\n",
            "hola 0\n",
            "hola 2\n",
            "hola 4\n",
            "hola 6\n",
            "hola 8\n",
            "Uva\n",
            "aguacate\n",
            "pera\n",
            "manzana\n",
            "sandia\n",
            "---frutas---\n",
            "Uva\n",
            "aguacate\n",
            "pera\n",
            "manzana\n",
            "sandia\n",
            "--------------------------------------\n",
            "+++++\n",
            "+++++\n",
            "+++++\n",
            "+++++\n",
            "+++++\n"
          ]
        }
      ]
    },
    {
      "cell_type": "code",
      "metadata": {
        "id": "eyiwK6SDMFoc"
      },
      "source": [
        "for x in range(1, 20, 1):\n",
        "    print(x)\n",
        "print(\"Fin del programa\")\n",
        "\n",
        "for x in range(19, 0, -1):\n",
        "    print(x)\n",
        "print(\"Fin de programa\")"
      ],
      "execution_count": null,
      "outputs": []
    },
    {
      "cell_type": "code",
      "metadata": {
        "colab": {
          "base_uri": "https://localhost:8080/"
        },
        "id": "Pt4TeZP2NzO_",
        "outputId": "ee9b29b8-1276-4aae-b141-261fc38ffeca"
      },
      "source": [
        "# ejemplo 3.3\n",
        "CUERCER = 0\n",
        "NUM =0\n",
        "N = int(input(\"Un valor numerico:\"))\n",
        "for I in range(1, N+1,1):\n",
        "    N = int(input(\"un valor numerico:\"))\n",
        "    if N == 0 :\n",
        "        CUERCER +=1\n",
        "\n",
        "print(\"CUERCER=\",CUERCER)"
      ],
      "execution_count": null,
      "outputs": [
        {
          "output_type": "stream",
          "name": "stdout",
          "text": [
            "Un valor numerico mayor que 1:4\n",
            "un valor numerico mayor que 1:0\n",
            "un valor numerico mayor que 1:0\n",
            "un valor numerico mayor que 1:2\n",
            "un valor numerico mayor que 1:2\n",
            "CUERCER= 2\n"
          ]
        }
      ]
    },
    {
      "cell_type": "code",
      "metadata": {
        "colab": {
          "base_uri": "https://localhost:8080/"
        },
        "id": "qoYwm4luQwws",
        "outputId": "dd176747-682e-490d-88cc-d6cac03df9cf"
      },
      "source": [
        "for f in range(1,11):\n",
        "    M = 7 * f\n",
        "    print(f\"7 x {f} = {M}\")"
      ],
      "execution_count": null,
      "outputs": [
        {
          "output_type": "stream",
          "name": "stdout",
          "text": [
            "7 x 1 = 7\n",
            "7 x 2 = 14\n",
            "7 x 3 = 21\n",
            "7 x 4 = 28\n",
            "7 x 5 = 35\n",
            "7 x 6 = 42\n",
            "7 x 7 = 49\n",
            "7 x 8 = 56\n",
            "7 x 9 = 63\n",
            "7 x 10 = 70\n"
          ]
        }
      ]
    },
    {
      "cell_type": "code",
      "metadata": {
        "colab": {
          "base_uri": "https://localhost:8080/"
        },
        "id": "AeF8-PyPR7Jb",
        "outputId": "5f0c4238-9b14-4b63-d9fe-abb1f85703cf"
      },
      "source": [
        "N1 = int(input(\"Dame un numero entre 1 y 5:\"))\n",
        "if N1 > 0 and N1 <=5:\n",
        "    N2 = int(input(f\"dame un numero entre {N1} y 10:\"))\n",
        "    if N2 >= N1 and N2 <=10:\n",
        "        for i in range( N1, N2+1 ):\n",
        "            for j in range(1, 11):\n",
        "                print(f\"{i} x {j} = \", i*j)\n",
        "            print(\"---------------\")\n",
        "else:\n",
        "    print(\"valor fuera de rango\")\n",
        "\n",
        "\n"
      ],
      "execution_count": null,
      "outputs": [
        {
          "output_type": "stream",
          "name": "stdout",
          "text": [
            "Dame un numero entre 1 y 5:4\n",
            "dame un numero entre 4 y 10:5\n",
            "4 x 1 =  4\n",
            "4 x 2 =  8\n",
            "4 x 3 =  12\n",
            "4 x 4 =  16\n",
            "4 x 5 =  20\n",
            "4 x 6 =  24\n",
            "4 x 7 =  28\n",
            "4 x 8 =  32\n",
            "4 x 9 =  36\n",
            "4 x 10 =  40\n",
            "---------------\n",
            "5 x 1 =  5\n",
            "5 x 2 =  10\n",
            "5 x 3 =  15\n",
            "5 x 4 =  20\n",
            "5 x 5 =  25\n",
            "5 x 6 =  30\n",
            "5 x 7 =  35\n",
            "5 x 8 =  40\n",
            "5 x 9 =  45\n",
            "5 x 10 =  50\n",
            "---------------\n"
          ]
        }
      ]
    },
    {
      "cell_type": "code",
      "metadata": {
        "colab": {
          "base_uri": "https://localhost:8080/"
        },
        "id": "3J1IY_p8XNAZ",
        "outputId": "3eda32c1-b2ff-422b-86bf-c5fa846098e7"
      },
      "source": [
        "# generadores de listas \n",
        "numeros = [0,0,0,0,0]\n",
        "print(numeros)\n",
        "numeros =[0 for x in range(5)]\n",
        "print(numeros)\n",
        "# empleando la variable de control x para el valor inicial\n",
        "numeros = [x for x in range(5)]\n",
        "print(numeros)\n",
        "#\n",
        "numeros =[(x+1)*10 for x in range(10)]\n",
        "print(numeros)\n",
        "numeros = [ x for x in range(10,101,10)]\n",
        "print(numeros)\n",
        "numeros= [x*10 for x in range(1,11)]\n",
        "print(numeros)"
      ],
      "execution_count": null,
      "outputs": [
        {
          "output_type": "stream",
          "name": "stdout",
          "text": [
            "[0, 0, 0, 0, 0]\n",
            "[0, 0, 0, 0, 0]\n",
            "[0, 1, 2, 3, 4]\n",
            "[10, 20, 30, 40, 50, 60, 70, 80, 90, 100]\n",
            "[10, 20, 30, 40, 50, 60, 70, 80, 90, 100]\n",
            "[10, 20, 30, 40, 50, 60, 70, 80, 90, 100]\n"
          ]
        }
      ]
    },
    {
      "cell_type": "code",
      "metadata": {
        "colab": {
          "base_uri": "https://localhost:8080/"
        },
        "id": "kmJRd-cFZbpd",
        "outputId": "602cc8d3-73df-40ee-e2d4-c7b1958e0f78"
      },
      "source": [
        "# ejrcicios: cualcular promedio de edades \n",
        "edades =[0 for x in range(5)]\n",
        "print(edades)\n",
        "\n",
        "suma=0\n",
        "edades=[0 for x in range(5)]\n",
        "for x in range(5):\n",
        "    edades[x]=int(input(\"dame una dedad:\"))\n",
        "    suma=suma+edades[x]\n",
        "print(edades)\n",
        "print(\"promedio\", suma/5)"
      ],
      "execution_count": null,
      "outputs": [
        {
          "output_type": "stream",
          "name": "stdout",
          "text": [
            "[0, 0, 0, 0, 0]\n",
            "dame una dedad:20\n",
            "dame una dedad:21\n",
            "dame una dedad:33\n",
            "dame una dedad:25\n",
            "dame una dedad:19\n",
            "[20, 21, 33, 25, 19]\n",
            "promedio 23.6\n"
          ]
        }
      ]
    },
    {
      "cell_type": "code",
      "metadata": {
        "colab": {
          "base_uri": "https://localhost:8080/"
        },
        "id": "L1dOLyd4cXFj",
        "outputId": "5fd2ee97-37b6-4d32-c263-0da85f847d49"
      },
      "source": [
        "import random\n",
        "print(random.random())\n",
        "print(random.uniform(5,11))\n",
        "val= round(random.uniform(5,11), 2)\n",
        "print(val)\n",
        "\n",
        "valores = [round(random.uniform(5,11),2) for x in range(20)]\n",
        "print(valores)"
      ],
      "execution_count": null,
      "outputs": [
        {
          "output_type": "stream",
          "name": "stdout",
          "text": [
            "0.27033382499709746\n",
            "10.609914037545924\n",
            "5.73\n",
            "[7.42, 6.12, 8.07, 8.39, 9.98, 9.03, 9.99, 7.49, 5.19, 5.3, 5.85, 6.71, 8.84, 8.0, 10.84, 10.81, 10.28, 5.82, 6.29, 10.44]\n"
          ]
        }
      ]
    },
    {
      "cell_type": "markdown",
      "metadata": {
        "id": "jpYDMIdTeedB"
      },
      "source": [
        "leer 3.3 la estructura repetitiva mientras (while) 124"
      ]
    },
    {
      "cell_type": "markdown",
      "metadata": {
        "id": "gAnZsU9h51fm"
      },
      "source": [
        "### Estructura de control de repetición Haz - mientras\n",
        "\n",
        "Una estructura de control Haz - mientras nos permite ejetutar repetidamente mientras una condicion se siga cumpliendo\n",
        "\n",
        "# sintaxis\n",
        "\n",
        "```\n",
        "while <condicion>:\n",
        "    <Bloque de sentencias a ejetutar repetidamente>\n",
        "<siguiente secuencia posterior a while>\n",
        "```\n",
        "La diferencia principal en comparaciom con la estructura for es que while no conoces el numero de ciclos a ejecutar;\n",
        "en for si se conoce.\n",
        "\n",
        "# Como ejemplo iniciemos el siguiente enunciado.\n",
        "\n",
        "hacer un programa que solicite un valor entero positivo y calcule repetidamente la mitad , se reasignara a este valor a la ,misma variable.El ciclo se debe detener cuando el resultado sea menor a 1. Mostrar en pantalla el claculo de todos los resultados y al final el numero de interaciones que realizo"
      ]
    },
    {
      "cell_type": "code",
      "metadata": {
        "colab": {
          "base_uri": "https://localhost:8080/"
        },
        "id": "nc7NzG-c6Syu",
        "outputId": "048a32de-46b5-4860-b3c9-191792765632"
      },
      "source": [
        "valor = int(input(\"Introduce un numero entero positivo:\"))\n",
        "contador = 0\n",
        "if valor > 0:\n",
        "    while valor > 1.0 :\n",
        "        valor =  valor /2\n",
        "        print( round(valor,2))\n",
        "        contador += 1\n",
        "else:\n",
        "    print(\"El numero es begativo, intente nuevamente\")\n",
        "print(\"Total de interaciones\",contador)"
      ],
      "execution_count": 2,
      "outputs": [
        {
          "output_type": "stream",
          "name": "stdout",
          "text": [
            "Introduce un numero entero positivo:4\n",
            "2.0\n",
            "1.0\n",
            "Total de interaciones 2\n"
          ]
        }
      ]
    },
    {
      "cell_type": "code",
      "metadata": {
        "colab": {
          "base_uri": "https://localhost:8080/"
        },
        "id": "RTkreCrI808A",
        "outputId": "7bee7a15-6359-4a81-869f-5d03d5ed16d9"
      },
      "source": [
        "valor = int(input(\"Dame unvalor entero:\"))\n",
        "\n",
        "while valor != 0:\n",
        "    print(valor)\n",
        "    valor = int(input(\"Dame un valor entero:\"))\n",
        "print(\"Fin el programa\")"
      ],
      "execution_count": 4,
      "outputs": [
        {
          "output_type": "stream",
          "name": "stdout",
          "text": [
            "Dame unvalor entero:2\n",
            "2\n",
            "Dame un valor entero:0\n",
            "Fin el programa\n"
          ]
        }
      ]
    },
    {
      "cell_type": "code",
      "metadata": {
        "id": "t5l62kjB-CvO"
      },
      "source": [
        "valor = int(input(\"Dame un valor entero:\"))\n",
        "while valor != 0:\n",
        "    print(\"otras cosas\")\n",
        "print(\"fin del programa\")\n",
        "# cuidado ciclo infinito"
      ],
      "execution_count": null,
      "outputs": []
    },
    {
      "cell_type": "markdown",
      "metadata": {
        "id": "cv3iVK3_Ag99"
      },
      "source": [
        "si el usuario escribe un numero incorecto, el programa no se ejetuta. En camnio se pregunta de nuevo por la info hata que el dato ingresado sea el correcto."
      ]
    },
    {
      "cell_type": "code",
      "metadata": {
        "colab": {
          "base_uri": "https://localhost:8080/"
        },
        "id": "eIRnINRi_9kl",
        "outputId": "507666f3-c175-4358-d0e0-1540e312fd86"
      },
      "source": [
        "comprobar = True\n",
        "\n",
        "while comprobar == True:\n",
        "\n",
        "    n = int (input(\"ingrese un numero entero positivo:\"))\n",
        "    if n > 0:\n",
        "\n",
        "        i=1 # se inicializa el valor en 1\n",
        "\n",
        "        while i < 11:\n",
        "            print(n,\"x\", i, \"es igual a :\", n*i)\n",
        "\n",
        "            i += 1 # i va ser igual a la misma variable mas 1\n",
        "\n",
        "            comprobar = False   \n",
        "    else:\n",
        "        print(\"El numero es incorecto, intente de nuevo\")"
      ],
      "execution_count": 17,
      "outputs": [
        {
          "output_type": "stream",
          "name": "stdout",
          "text": [
            "ingrese un numero entero positivo:-9\n",
            "El numero es incorecto, intente de nuevo\n",
            "ingrese un numero entero positivo:7\n",
            "7 x 1 es igual a : 7\n",
            "7 x 2 es igual a : 14\n",
            "7 x 3 es igual a : 21\n",
            "7 x 4 es igual a : 28\n",
            "7 x 5 es igual a : 35\n",
            "7 x 6 es igual a : 42\n",
            "7 x 7 es igual a : 49\n",
            "7 x 8 es igual a : 56\n",
            "7 x 9 es igual a : 63\n",
            "7 x 10 es igual a : 70\n"
          ]
        }
      ]
    },
    {
      "cell_type": "markdown",
      "metadata": {
        "id": "ePez5catLEqk"
      },
      "source": [
        "Escribe un programa que al recibir como dato un numero positivo N, calcule el resultado de la siguiemte serie:  \n",
        "1 + (1/2) + (1/3) + (1/4) +...+(1/N)\n",
        "si el usuario escribe un numero incorecto, el porgrama no se ejecuta.En cambio pregunta de nuevo por la informacion hata que el dato sea corecto"
      ]
    },
    {
      "cell_type": "code",
      "metadata": {
        "colab": {
          "base_uri": "https://localhost:8080/"
        },
        "id": "BQdmWvyEKX9J",
        "outputId": "a5a427aa-30a3-4fd0-ca23-b91dfde568d3"
      },
      "source": [
        "comprobar = True\n",
        "while comprobar == True:\n",
        "    n = int (input(\"ingrese un numero entero positivo:\"))\n",
        "    if n>0:\n",
        "        comprobar = False\n",
        "        resultado=0\n",
        "        for i in range (1, n+1):\n",
        "            resultado += (1/i)\n",
        "            print(\"el resultado de la serie es:\", resultado)\n",
        "    else:\n",
        "        print(\"el resultado es incorecto, intente de nuevo\")"
      ],
      "execution_count": 24,
      "outputs": [
        {
          "output_type": "stream",
          "name": "stdout",
          "text": [
            "ingrese un numero entero:-9\n",
            "el resultado es incorecto, intente de nuevo\n",
            "ingrese un numero entero:9\n",
            "el resultado de la serie es: 1.0\n",
            "el resultado de la serie es: 1.5\n",
            "el resultado de la serie es: 1.8333333333333333\n",
            "el resultado de la serie es: 2.083333333333333\n",
            "el resultado de la serie es: 2.283333333333333\n",
            "el resultado de la serie es: 2.4499999999999997\n",
            "el resultado de la serie es: 2.5928571428571425\n",
            "el resultado de la serie es: 2.7178571428571425\n",
            "el resultado de la serie es: 2.8289682539682537\n"
          ]
        }
      ]
    }
  ]
}