{
  "nbformat": 4,
  "nbformat_minor": 0,
  "metadata": {
    "colab": {
      "name": "fundamentosCyP1157.ipynb",
      "provenance": [],
      "collapsed_sections": [],
      "authorship_tag": "ABX9TyM48FN4wzp3Tt2SFCcRIpGh",
      "include_colab_link": true
    },
    "kernelspec": {
      "name": "python3",
      "display_name": "Python 3"
    },
    "language_info": {
      "name": "python"
    }
  },
  "cells": [
    {
      "cell_type": "markdown",
      "metadata": {
        "id": "view-in-github",
        "colab_type": "text"
      },
      "source": [
        "<a href=\"https://colab.research.google.com/github/AlexisAO861/ComputadorasyProgramacion-G1157/blob/main/21_10_2021.ipynb\" target=\"_parent\"><img src=\"https://colab.research.google.com/assets/colab-badge.svg\" alt=\"Open In Colab\"/></a>"
      ]
    },
    {
      "cell_type": "code",
      "metadata": {
        "colab": {
          "base_uri": "https://localhost:8080/"
        },
        "id": "6fC2RF9QV_Q5",
        "outputId": "2a81f7a1-1534-4830-beab-53c7a74b3353"
      },
      "source": [
        "nombre= \"alex\" # Tipo de dato string (cadena de caracteres)\n",
        "\n",
        "print( nombre )\n",
        "\n",
        "\n",
        "\n"
      ],
      "execution_count": null,
      "outputs": [
        {
          "output_type": "stream",
          "name": "stdout",
          "text": [
            "alex\n"
          ]
        }
      ]
    },
    {
      "cell_type": "markdown",
      "metadata": {
        "id": "eRlonwTxZBub"
      },
      "source": [
        "# Tipo de dato en python\n",
        "\n",
        "### Tipos simples \n",
        "- str --->  string cadena de caracteres.\n",
        "- int ---> Numeros enteros\n",
        "- float ---> numeros con notacion de punto flotante \n",
        "- complex --->Numeros completos\n",
        "- bool ---> Boleano (true o fals)\n",
        "- Byte ---> 8 bits\n",
        "\n",
        "# tipos de datos estructurados ( compuestos )\n",
        "- list ---> Lista (Arreglos en otros leng)\n",
        "- dict ----> diccionarios \n",
        "- set y frozenset ---> conjuntos \n",
        "- tuple ---> Listas de mutaciones "
      ]
    },
    {
      "cell_type": "code",
      "metadata": {
        "colab": {
          "base_uri": "https://localhost:8080/"
        },
        "id": "H8boXSvAaacz",
        "outputId": "d3dfb8eb-0619-40c2-d6eb-35e112c0b85e"
      },
      "source": [
        "   import sys\n",
        "\n",
        "   edad = 19\n",
        "   print(  \"tu edad es:\", edad) # al final de una linea de codigo \n",
        "   # este es un comentario de linea simple\n",
        "\n",
        "   \"\"\"\n",
        "  comentario de multiple linea \n",
        "  En lenguaje c++\n",
        "   \"\"\"\n",
        "   # tipos de datos numerico int y float   \n",
        "\n",
        "   print (  sys.getsizeof(edad) )\n",
        "# el tipo de dato INT utiliza diferente cantidad de bits segun el\n",
        "# leg de prog. por ejemplo en c utiliza 16 bits.\n",
        "  \n",
        "   edad = edad + 1 \n",
        "   print( edad)\n",
        "\n",
        "   estatura = 1.56\n",
        "   print( estatura )\n",
        "   print( sys. getsizeof(estatura))\n",
        "   estatura = estatura + 0.1\n",
        "   print( estatura )\n",
        "   print( round (estatura,2 ) )\n",
        "\n",
        "   edad += 1    # edad = edad +1\n",
        "   print(  \"tu edad es:\", edad)\n",
        "\n",
        "   edad -= 1    # edad = edad -1\n",
        "   print(  \"tu edad es:\", edad)\n",
        "\n",
        "   edad /= 2 \n",
        "   print( \"La mitad de tu edad es:\",edad )\n",
        "\n",
        "\n",
        "\n",
        "   numero = edad / 2.0\n",
        "   print( numero )\n",
        "\n",
        "   numero *= 3  # multiplicacion\n",
        "   print( numero )\n",
        "\n",
        "   numero = 5.0\n",
        "   numero **= 3 # sacar potencia \n",
        "   print( numero )\n",
        "\n",
        "   # operador modulo\n",
        "   numero = 21\n",
        "   print( numero / 2 )\n",
        "   print( numero // 2 )\n",
        "\n",
        "   # el operador da como resultado el residuo de una divison entera\n",
        "\n",
        "   print( numero % 2 )\n",
        "\n",
        "  # operador modulo\n",
        "   numero = 21\n",
        "   print( numero / 2 )\n",
        "   print( numero // 2 )\n",
        "\n",
        "   # el operador da como resultado el residuo de una divison entera  <>\"\n",
        "   print( numero % 2 )\n",
        "\n",
        "   numero = 24\n",
        "   print( \"Residuo de 24 / 5:\"  , numero % 5 )\n",
        "\n",
        "   #operadores relacionales logicos \n",
        "   print( numero % 2 == 0 )\n",
        "\n",
        "   # diferencia\n",
        "   print(\" 24 es diferente de 23=\" , numero != 23 )\n",
        "   print(\" 24 es mayor que 23=\" , numero > 23 )\n",
        "   print(\" 24 es menor que 23=\" , numero < 23 )\n",
        "\n",
        "   print( \" 24 es mayor o igual que 24\" , numero >= 24 )\n",
        "   print( \" 24 es menor o igual que 23\" , numero >= 23 )\n",
        "   \n",
        "\n",
        "   print(\" El tipo de dato de la var numero es:\", type( numero))\n",
        "   print(\" El tipo de dato de la var numero / es:\", type(numero))\n",
        "\n"
      ],
      "execution_count": null,
      "outputs": [
        {
          "output_type": "stream",
          "name": "stdout",
          "text": [
            "tu edad es: 19\n",
            "28\n",
            "20\n",
            "1.56\n",
            "24\n",
            "1.6600000000000001\n",
            "1.66\n",
            "tu edad es: 21\n",
            "tu edad es: 20\n",
            "La mitad de tu edad es: 10.0\n",
            "5.0\n",
            "15.0\n",
            "125.0\n",
            "10.5\n",
            "10\n",
            "1\n",
            "10.5\n",
            "10\n",
            "1\n",
            "Residuo de 24 / 5: 4\n",
            "True\n",
            " 24 es diferente de 23= True\n",
            " 24 es mayor que 23= True\n",
            " 24 es menor que 23= False\n",
            " 24 es mayor o igual que 24 True\n",
            " 24 es menor o igual que 23 True\n",
            " El tipo de dato de la var numero es: <class 'int'>\n",
            " El tipo de dato de la var numero / es: <class 'int'>\n"
          ]
        }
      ]
    },
    {
      "cell_type": "markdown",
      "metadata": {
        "id": "7u1Y6tNMppgt"
      },
      "source": [
        "#Tipo de dato (str) en Python\n",
        "- se maneja como un arreglo ( tipo de dato compuesto)\n",
        "- se puede acceder a los elementos de el string por medio del indice del caracter.\n",
        "- mutable.\n",
        "- tiene metodos utiles (potentes)\n",
        "- slicing."
      ]
    },
    {
      "cell_type": "code",
      "metadata": {
        "colab": {
          "base_uri": "https://localhost:8080/"
        },
        "id": "ovaMJCu7qcPX",
        "outputId": "aae41a2b-7126-4ba0-fd0b-d2c108f2b007"
      },
      "source": [
        "nombre = 'alex'\n",
        "carrera = \"Ingenieria en computacion\"\n",
        "frase= \"\"\" El conocimiento\n",
        "me persigue,....\n",
        "pero\n",
        "yo soy mas rapido\n",
        "\"\"\"\n",
        "print( nombre)\n",
        "print( carrera )\n",
        "print( frase )\n",
        "\n",
        "#La funsion tripe de pyton te devuelve el tipo de dato de una variable (o e)\n",
        "print( type(nombre))\n",
        "\n",
        "paterno = str ( \"alex\" )\n",
        "print(paterno)\n"
      ],
      "execution_count": null,
      "outputs": [
        {
          "output_type": "stream",
          "name": "stdout",
          "text": [
            "alex\n",
            "Ingenieria en computacion\n",
            " El conocimiento\n",
            "me persigue,....\n",
            "pero\n",
            "yo soy mas rapido\n",
            "\n",
            "<class 'str'>\n",
            "alex\n"
          ]
        }
      ]
    },
    {
      "cell_type": "markdown",
      "metadata": {
        "id": "qZo48U2kplmv"
      },
      "source": [
        "#Una clase (class) es un tipo de dato compuesto "
      ]
    },
    {
      "cell_type": "code",
      "metadata": {
        "colab": {
          "base_uri": "https://localhost:8080/"
        },
        "id": "esKrKi1IpmHH",
        "outputId": "0bce9ddc-13cf-40ed-9975-1bdafd7b0814"
      },
      "source": [
        "Carrera =\"Ingenieria en computacion\"\n",
        "print( carrera )\n",
        "print( carrera [2])\n",
        "\n"
      ],
      "execution_count": null,
      "outputs": [
        {
          "output_type": "stream",
          "name": "stdout",
          "text": [
            "Ingenieria en computacion\n",
            "g\n"
          ]
        }
      ]
    },
    {
      "cell_type": "markdown",
      "metadata": {
        "id": "Pw2V3CftsEno"
      },
      "source": [
        "# a la sintaxis escrita para elegir un elemnto de un gruppo de datos se llama selector.\n",
        "\n",
        "En el caso de Strings y listas (Lst) se usan los caracteres [y]\n",
        "\n",
        "1. En todos los lenguajes los arreglos inician en 0\n"
      ]
    },
    {
      "cell_type": "code",
      "metadata": {
        "colab": {
          "base_uri": "https://localhost:8080/"
        },
        "id": "YkFSaMaEsjwB",
        "outputId": "2c75025b-af32-4e3d-dc38-f77f64ce8f04"
      },
      "source": [
        " carrera = \"Ingenieria en computacion\"\n",
        " print( carrera[8] )\n",
        " print( carrera[24] )\n",
        " print( carrera[-1] )\n",
        " print( carrera[-25] ) \n",
        "\n",
        "\n",
        " # adelantando el tema ciclo FOR\n",
        "\n",
        " for Letra in carrera:\n",
        "   print( \"--\",Letra,\"--\" )"
      ],
      "execution_count": null,
      "outputs": [
        {
          "output_type": "stream",
          "name": "stdout",
          "text": [
            "i\n",
            "n\n",
            "n\n",
            "I\n",
            "-- I --\n",
            "-- n --\n",
            "-- g --\n",
            "-- e --\n",
            "-- n --\n",
            "-- i --\n",
            "-- e --\n",
            "-- r --\n",
            "-- i --\n",
            "-- a --\n",
            "--   --\n",
            "-- e --\n",
            "-- n --\n",
            "--   --\n",
            "-- c --\n",
            "-- o --\n",
            "-- m --\n",
            "-- p --\n",
            "-- u --\n",
            "-- t --\n",
            "-- a --\n",
            "-- c --\n",
            "-- i --\n",
            "-- o --\n",
            "-- n --\n"
          ]
        }
      ]
    },
    {
      "cell_type": "markdown",
      "metadata": {
        "id": "Cc-SpYMivRra"
      },
      "source": [
        "# Slicing (rebanado) de cadenas \n",
        "\n",
        "- permite seleccionar subcadenas con el operador\n",
        "#### [inicio: stop: invcremento]\n",
        "El stop no se incluye , es por eso que debemos agarar una posicion extra.\n",
        "\n",
        "### Slicing y valores por defecto\n",
        "\n",
        "inicio por defecto siempre sera 0 stop: tamaño de arreglo ( indexado posiciom indexado negativo)\n",
        "\n",
        "incremento : es 1 (inexado posiyivo)\n"
      ]
    },
    {
      "cell_type": "code",
      "metadata": {
        "colab": {
          "base_uri": "https://localhost:8080/"
        },
        "id": "xXtSU_OevdBJ",
        "outputId": "5efe360b-6e39-4651-e0da-6177c55da9ed"
      },
      "source": [
        "carrera = \"Ingenieria en computacion\"\n",
        "print( carrera[0:10:1])\n",
        "print( carrera[14:25:1])\n",
        "# lo mismo pero con indexado negativo ??\n",
        "print( carrera[-11:-1:1])\n",
        "print( carrera[:10:])\n",
        "print( carrera[14:25:])\n",
        "print( carrera[11: : 1] )\n",
        "\n",
        "# solucion previa \n",
        "print(\"--------\")\n",
        "print( carrera[-11:-1:1] )\n",
        "print( carrera[-11: :1] )\n",
        "\n",
        "# Un ejercicio mas para ver incremento\n",
        "print( carrera[0:10:2] )\n",
        "print( carrera[-1:-12:-1])"
      ],
      "execution_count": null,
      "outputs": [
        {
          "output_type": "stream",
          "name": "stdout",
          "text": [
            "Ingenieria\n",
            "computacion\n",
            "computacio\n",
            "Ingenieria\n",
            "computacion\n",
            "en computacion\n",
            "--------\n",
            "computacio\n",
            "computacion\n",
            "Ignei\n",
            "noicatupmoc\n"
          ]
        }
      ]
    },
    {
      "cell_type": "markdown",
      "metadata": {
        "id": "jpMg6Ob50r6_"
      },
      "source": [
        "\n",
        "# String y sus metodos\n",
        "\n",
        "### Lo cual significa que tiene atrubutos y metodos \n",
        "\n",
        "## dir () y help () funciones para obtenr ayuda del lenguaje python \n",
        "\n",
        "### dir muestra las funciones de un tipo de dato como resumen.\n",
        "\n",
        "### help muestra la misma ayuda pero a detalle.\n",
        "\n",
        "metodo que inicia con doble guion bajo son privados de uso interno de de\n"
      ]
    },
    {
      "cell_type": "code",
      "metadata": {
        "colab": {
          "base_uri": "https://localhost:8080/"
        },
        "id": "GObVowe71KA-",
        "outputId": "02df6b05-6822-430f-a5c9-3ff2c2df2e5e"
      },
      "source": [
        "Frutas = \"  limon , fresa,  mansana  , aguacate  \"\n",
        "nombre = \"jose\"\n",
        "print(Frutas)\n",
        "\n",
        "\n",
        "print( nombre.capitalize() )\n",
        "print( nombre. upper() )\n",
        "print(Frutas.replace( 'a'  , '4'  ).replace( 'e','3').upper())\n",
        "Frutas = Frutas.replace( 'a'  , '4'  ).replace( 'e','3').upper()\n",
        "print(Frutas)\n",
        "print(\"-.-.-.-.-.-.-.-.-.-.-.-.-.-.-.-.-.-.-.-.-.-.-.\")\n",
        "Frutas = \"  limon , fresa,  mansana  , aguacate  \"\n",
        "print(Frutas.strip())\n",
        "print( Frutas.split(',')) # separa el texto como se lo indiques \n",
        "print(Frutas.index('n'))\n",
        "\n"
      ],
      "execution_count": null,
      "outputs": [
        {
          "output_type": "stream",
          "name": "stdout",
          "text": [
            "  limon , fresa,  mansana  , aguacate  \n",
            "Jose\n",
            "JOSE\n",
            "  LIMON , FR3S4,  M4NS4N4  , 4GU4C4T3  \n",
            "  LIMON , FR3S4,  M4NS4N4  , 4GU4C4T3  \n",
            "-.-.-.-.-.-.-.-.-.-.-.-.-.-.-.-.-.-.-.-.-.-.-.\n",
            "limon , fresa,  mansana  , aguacate\n",
            "['  limon ', ' fresa', '  mansana  ', ' aguacate  ']\n",
            "6\n"
          ]
        }
      ]
    },
    {
      "cell_type": "code",
      "metadata": {
        "colab": {
          "base_uri": "https://localhost:8080/"
        },
        "id": "p4banaE97zbQ",
        "outputId": "984cd7df-5016-42b0-859e-0dbedd50ae6b"
      },
      "source": [
        "dir(str)"
      ],
      "execution_count": null,
      "outputs": [
        {
          "output_type": "execute_result",
          "data": {
            "text/plain": [
              "['__add__',\n",
              " '__class__',\n",
              " '__contains__',\n",
              " '__delattr__',\n",
              " '__dir__',\n",
              " '__doc__',\n",
              " '__eq__',\n",
              " '__format__',\n",
              " '__ge__',\n",
              " '__getattribute__',\n",
              " '__getitem__',\n",
              " '__getnewargs__',\n",
              " '__gt__',\n",
              " '__hash__',\n",
              " '__init__',\n",
              " '__init_subclass__',\n",
              " '__iter__',\n",
              " '__le__',\n",
              " '__len__',\n",
              " '__lt__',\n",
              " '__mod__',\n",
              " '__mul__',\n",
              " '__ne__',\n",
              " '__new__',\n",
              " '__reduce__',\n",
              " '__reduce_ex__',\n",
              " '__repr__',\n",
              " '__rmod__',\n",
              " '__rmul__',\n",
              " '__setattr__',\n",
              " '__sizeof__',\n",
              " '__str__',\n",
              " '__subclasshook__',\n",
              " 'capitalize',\n",
              " 'casefold',\n",
              " 'center',\n",
              " 'count',\n",
              " 'encode',\n",
              " 'endswith',\n",
              " 'expandtabs',\n",
              " 'find',\n",
              " 'format',\n",
              " 'format_map',\n",
              " 'index',\n",
              " 'isalnum',\n",
              " 'isalpha',\n",
              " 'isascii',\n",
              " 'isdecimal',\n",
              " 'isdigit',\n",
              " 'isidentifier',\n",
              " 'islower',\n",
              " 'isnumeric',\n",
              " 'isprintable',\n",
              " 'isspace',\n",
              " 'istitle',\n",
              " 'isupper',\n",
              " 'join',\n",
              " 'ljust',\n",
              " 'lower',\n",
              " 'lstrip',\n",
              " 'maketrans',\n",
              " 'partition',\n",
              " 'replace',\n",
              " 'rfind',\n",
              " 'rindex',\n",
              " 'rjust',\n",
              " 'rpartition',\n",
              " 'rsplit',\n",
              " 'rstrip',\n",
              " 'split',\n",
              " 'splitlines',\n",
              " 'startswith',\n",
              " 'strip',\n",
              " 'swapcase',\n",
              " 'title',\n",
              " 'translate',\n",
              " 'upper',\n",
              " 'zfill']"
            ]
          },
          "metadata": {},
          "execution_count": 44
        }
      ]
    },
    {
      "cell_type": "markdown",
      "metadata": {
        "id": "ACkrTVN885Jh"
      },
      "source": [
        "# String y caracteres de escape\n",
        "\n",
        "- \\\\\" ------- \" \n",
        "- \\\\' ------- '\n",
        "- \\n ------- salto de linea (tecla enter)\n",
        "- \\t ------- tabulador espacios a la izq\n",
        "- \\uxxxx ------ Caracteres unicode 16 bits\n",
        "- \\Uxxxxxxxx----- Unicode extendido\n",
        "- \\\\\\ --->\\\\\n",
        "\n",
        "https://unicode-table.com/es/blocks/\n",
        "\n"
      ]
    },
    {
      "cell_type": "code",
      "metadata": {
        "colab": {
          "base_uri": "https://localhost:8080/"
        },
        "id": "179b71-69B3M",
        "outputId": "5b7af0d1-7be7-4f0c-ad7d-6fb130f87563"
      },
      "source": [
        "print(\" \\\"jose\\\" \")\n",
        "nombre = \" \\\"jose\\\" \"\n",
        "print( nombre )\n",
        "carrera = \" Ingeneria \\n\\ten \\n\\t\\tcomputacion\"\n",
        "print(carrera)  \n",
        "print(\"\\u0065\")\n",
        "print(\"\\u0444\")\n",
        "print(\"\\u0620\")\n",
        "\n",
        "print(\"\\U00010057\")\n",
        "print(\"\\U0001F970\")\n",
        "print(\"\\U0001F9A0\")"
      ],
      "execution_count": 12,
      "outputs": [
        {
          "output_type": "stream",
          "name": "stdout",
          "text": [
            " \"jose\" \n",
            " \"jose\" \n",
            " Ingeneria \n",
            "\ten \n",
            "\t\tcomputacion\n",
            "e\n",
            "ф\n",
            "ؠ\n",
            "𐁗\n",
            "🥰\n",
            "🦠\n"
          ]
        }
      ]
    },
    {
      "cell_type": "markdown",
      "metadata": {
        "id": "zrm8JPY-yIgV"
      },
      "source": [
        "# Funcion print\n",
        "\n",
        "### se emplea para desplegar informacion en la salida estandar. Normalmente un monitor.\n",
        "\n",
        "- Formas de usar print\n",
        "- el argumento por defecto de print (end)\n",
        "- formal()\n",
        "- operador f\"\"\n",
        "\n"
      ]
    },
    {
      "cell_type": "code",
      "metadata": {
        "colab": {
          "base_uri": "https://localhost:8080/"
        },
        "id": "3jBw058qy9jY",
        "outputId": "7a7a6a9b-acdb-4af9-ada6-228ad88b57ef"
      },
      "source": [
        "nombre = \"alex\"\n",
        "edad = 18\n",
        "casado = False\n",
        "estatura = 1.67\n",
        "\"\"\"\"\n",
        " nombre: jose \n",
        "    edad: 18\n",
        "    esta casado: False\n",
        "    Estatura en metros : 1:67\n",
        "\"\"\"\n",
        "\n",
        "# 1.- Con comas.- concatena haciendo un casting (convesion string automaticamente)\n",
        "# agrega un espacio\n",
        "print( nombre,edad,casado,estatura )\n",
        "print(\"nombre: \" + nombre +\"\\n\\tEdad: \"+ str(edad) +\"\\n\\testa casado\")\n",
        "\n",
        "# 2.- Con el simbolo de \"+\"\n",
        "# concatenacion en crudo.\n",
        "print(nombre + \" \" + str(edad) + \" \" + str(casado) + \" \" + str(estatura) )\n",
        "\n",
        "# 3 dando formatos a la salida con format()\n",
        "print(\"\\nCon la funcion format()\")\n",
        "print(\"nombre: {3}\\n\\tEdad: {2}\\n\\tEsta casado: {1}\\n\\testatura en metros:{0}\".format(nombre,edad,casado,estatura ))\n",
        "\n",
        "#4.- con el operador f\"\n",
        "print(\"Con el operador f\\\" \\\"\" )\n",
        "print(f\"nombre: {nombre}\\n\\tEdad: {edad}\\n\\tEsta casado: {casado}\\n\\testatura en metros:{estatura}\")\n",
        "\n",
        "# como manejar el argumento end \n",
        "print(\"\\n como usar el argumento end \")\n",
        "print(f\"hola {nombre}\" , end=\"\" )\n",
        "print(\",como estas?\" , end=\"\\n\")"
      ],
      "execution_count": 29,
      "outputs": [
        {
          "output_type": "stream",
          "name": "stdout",
          "text": [
            "alex 18 False 1.67\n",
            "nombre: alex\n",
            "\tEdad: 18\n",
            "\testa casado\n",
            "alex 18 False 1.67\n",
            "\n",
            "Con la funcion format()\n",
            "nombre: 1.67\n",
            "\tEdad: False\n",
            "\tEsta casado: 18\n",
            "\testatura en metros:alex\n",
            "Con el operador f\" \"\n",
            "nombre: alex\n",
            "\tEdad: 18\n",
            "\tEsta casado: False\n",
            "\testatura en metros:1.67\n",
            "\n",
            " como usar el argumento end \n",
            "hola alex,como estas?\n"
          ]
        }
      ]
    },
    {
      "cell_type": "markdown",
      "metadata": {
        "id": "j0gTtoIo7C4r"
      },
      "source": [
        "# con una sola funcion por letra print, escribir su primer nombre( nombre de pila ) de la siguiente forma.\n",
        "\n",
        "#  A\n",
        "# A  A\n",
        "# AAAAAA\n",
        "# A    A\n",
        "# A    A"
      ]
    }
  ]
}